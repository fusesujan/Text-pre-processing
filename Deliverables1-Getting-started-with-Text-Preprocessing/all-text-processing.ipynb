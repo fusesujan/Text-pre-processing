{
 "cells": [
  {
   "cell_type": "markdown",
   "metadata": {},
   "source": [
    "## Introduction \n",
    "In any machine learning task, cleaning or preprocessing the data is as important as model building if not more. And when it comes to unstructured data like text, this process is even more important.\n",
    "\n",
    "Objective of this kernel is to understand the various text preprocessing steps with code examples.\n",
    "\n",
    "Some of the common text preprocessing / cleaning steps are:\n",
    "\n",
    "    Lower casing\n",
    "    Removal of Punctuations\n",
    "    Removal of Stopwords\n",
    "    Removal of Frequent words\n",
    "    Removal of Rare words\n",
    "    Stemming\n",
    "    Lemmatization\n",
    "    Removal of emojis\n",
    "    Removal of emoticons\n",
    "    Removal of URLs\n",
    "    Removal of HTML tags\n",
    "    Chat words conversion\n",
    "    Spelling correction\n",
    "So these are the different types of text preprocessing steps which we can do on text data. But we need not do all of these all the times. We need to carefully choose the preprocessing steps based on our use case since that also play an important role."
   ]
  },
  {
   "cell_type": "code",
   "execution_count": 254,
   "metadata": {},
   "outputs": [
    {
     "data": {
      "text/html": [
       "<div>\n",
       "<style scoped>\n",
       "    .dataframe tbody tr th:only-of-type {\n",
       "        vertical-align: middle;\n",
       "    }\n",
       "\n",
       "    .dataframe tbody tr th {\n",
       "        vertical-align: top;\n",
       "    }\n",
       "\n",
       "    .dataframe thead th {\n",
       "        text-align: right;\n",
       "    }\n",
       "</style>\n",
       "<table border=\"1\" class=\"dataframe\">\n",
       "  <thead>\n",
       "    <tr style=\"text-align: right;\">\n",
       "      <th></th>\n",
       "      <th>Unnamed: 0</th>\n",
       "      <th>Rating</th>\n",
       "      <th>Title</th>\n",
       "      <th>Review</th>\n",
       "      <th>Review_Date</th>\n",
       "    </tr>\n",
       "  </thead>\n",
       "  <tbody>\n",
       "    <tr>\n",
       "      <th>0</th>\n",
       "      <td>0</td>\n",
       "      <td>4</td>\n",
       "      <td>4.0 out of 5 stars\\nAwesome</td>\n",
       "      <td>I liked this gen very much. The only disadvant...</td>\n",
       "      <td>30-Aug-23</td>\n",
       "    </tr>\n",
       "    <tr>\n",
       "      <th>1</th>\n",
       "      <td>1</td>\n",
       "      <td>3</td>\n",
       "      <td>3.0 out of 5 stars\\nVery Very Average. Very di...</td>\n",
       "      <td>This latest version of Echo Dot may be a bette...</td>\n",
       "      <td>15-Aug-23</td>\n",
       "    </tr>\n",
       "    <tr>\n",
       "      <th>2</th>\n",
       "      <td>2</td>\n",
       "      <td>4</td>\n",
       "      <td>4.0 out of 5 stars\\ni was not be able to reset...</td>\n",
       "      <td>it could  not be possible to reset it at my ne...</td>\n",
       "      <td>21-Aug-23</td>\n",
       "    </tr>\n",
       "    <tr>\n",
       "      <th>3</th>\n",
       "      <td>3</td>\n",
       "      <td>4</td>\n",
       "      <td>4.0 out of 5 stars\\nHangs a lot</td>\n",
       "      <td>Nothing great then previous ones .</td>\n",
       "      <td>25-Aug-23</td>\n",
       "    </tr>\n",
       "    <tr>\n",
       "      <th>4</th>\n",
       "      <td>4</td>\n",
       "      <td>4</td>\n",
       "      <td>4.0 out of 5 stars\\nAwesome</td>\n",
       "      <td>AwesomeBut some time can not listenOver all good</td>\n",
       "      <td>14-Aug-23</td>\n",
       "    </tr>\n",
       "  </tbody>\n",
       "</table>\n",
       "</div>"
      ],
      "text/plain": [
       "   Unnamed: 0  Rating                                              Title  \\\n",
       "0           0       4                        4.0 out of 5 stars\\nAwesome   \n",
       "1           1       3  3.0 out of 5 stars\\nVery Very Average. Very di...   \n",
       "2           2       4  4.0 out of 5 stars\\ni was not be able to reset...   \n",
       "3           3       4                    4.0 out of 5 stars\\nHangs a lot   \n",
       "4           4       4                        4.0 out of 5 stars\\nAwesome   \n",
       "\n",
       "                                              Review Review_Date  \n",
       "0  I liked this gen very much. The only disadvant...   30-Aug-23  \n",
       "1  This latest version of Echo Dot may be a bette...   15-Aug-23  \n",
       "2  it could  not be possible to reset it at my ne...   21-Aug-23  \n",
       "3                 Nothing great then previous ones .   25-Aug-23  \n",
       "4   AwesomeBut some time can not listenOver all good   14-Aug-23  "
      ]
     },
     "execution_count": 254,
     "metadata": {},
     "output_type": "execute_result"
    }
   ],
   "source": [
    "# first import some necessary libraries\n",
    "import numpy as np\n",
    "import pandas as pd\n",
    "import re\n",
    "import nltk\n",
    "import string\n",
    "pd.options.mode.chained_assignment = None\n",
    "\n",
    "full_df = pd.read_csv(\"Amazon_Alexa_Reviews.csv\")\n",
    "full_df.head()"
   ]
  },
  {
   "cell_type": "code",
   "execution_count": 255,
   "metadata": {},
   "outputs": [
    {
     "data": {
      "text/plain": [
       "(90, 5)"
      ]
     },
     "execution_count": 255,
     "metadata": {},
     "output_type": "execute_result"
    }
   ],
   "source": [
    "# Lets get the shape of the data\n",
    "full_df.shape"
   ]
  },
  {
   "cell_type": "markdown",
   "metadata": {},
   "source": [
    "There are 90 rows and 5 columns in this dataset."
   ]
  },
  {
   "cell_type": "code",
   "execution_count": 256,
   "metadata": {},
   "outputs": [
    {
     "name": "stdout",
     "output_type": "stream",
     "text": [
      "<class 'pandas.core.frame.DataFrame'>\n",
      "RangeIndex: 90 entries, 0 to 89\n",
      "Data columns (total 5 columns):\n",
      " #   Column       Non-Null Count  Dtype \n",
      "---  ------       --------------  ----- \n",
      " 0   Unnamed: 0   90 non-null     int64 \n",
      " 1   Rating       90 non-null     int64 \n",
      " 2   Title        90 non-null     object\n",
      " 3   Review       89 non-null     object\n",
      " 4   Review_Date  90 non-null     object\n",
      "dtypes: int64(2), object(3)\n",
      "memory usage: 3.6+ KB\n"
     ]
    }
   ],
   "source": [
    "# information on data\n",
    "full_df.info()"
   ]
  },
  {
   "cell_type": "code",
   "execution_count": 257,
   "metadata": {},
   "outputs": [
    {
     "name": "stdout",
     "output_type": "stream",
     "text": [
      "Index(['Unnamed: 0', 'Rating', 'Title', 'Review', 'Review_Date'], dtype='object')\n"
     ]
    }
   ],
   "source": [
    "columns = full_df.columns\n",
    "print(columns)"
   ]
  },
  {
   "cell_type": "markdown",
   "metadata": {},
   "source": [
    "##### Here we dont need the columns 'Unnamed: 0' and 'Title' for any processing."
   ]
  },
  {
   "cell_type": "code",
   "execution_count": 258,
   "metadata": {},
   "outputs": [
    {
     "data": {
      "text/html": [
       "<div>\n",
       "<style scoped>\n",
       "    .dataframe tbody tr th:only-of-type {\n",
       "        vertical-align: middle;\n",
       "    }\n",
       "\n",
       "    .dataframe tbody tr th {\n",
       "        vertical-align: top;\n",
       "    }\n",
       "\n",
       "    .dataframe thead th {\n",
       "        text-align: right;\n",
       "    }\n",
       "</style>\n",
       "<table border=\"1\" class=\"dataframe\">\n",
       "  <thead>\n",
       "    <tr style=\"text-align: right;\">\n",
       "      <th></th>\n",
       "      <th>Rating</th>\n",
       "      <th>Review</th>\n",
       "      <th>Review_Date</th>\n",
       "    </tr>\n",
       "  </thead>\n",
       "  <tbody>\n",
       "    <tr>\n",
       "      <th>0</th>\n",
       "      <td>4</td>\n",
       "      <td>I liked this gen very much. The only disadvant...</td>\n",
       "      <td>30-Aug-23</td>\n",
       "    </tr>\n",
       "    <tr>\n",
       "      <th>1</th>\n",
       "      <td>3</td>\n",
       "      <td>This latest version of Echo Dot may be a bette...</td>\n",
       "      <td>15-Aug-23</td>\n",
       "    </tr>\n",
       "    <tr>\n",
       "      <th>2</th>\n",
       "      <td>4</td>\n",
       "      <td>it could  not be possible to reset it at my ne...</td>\n",
       "      <td>21-Aug-23</td>\n",
       "    </tr>\n",
       "    <tr>\n",
       "      <th>3</th>\n",
       "      <td>4</td>\n",
       "      <td>Nothing great then previous ones .</td>\n",
       "      <td>25-Aug-23</td>\n",
       "    </tr>\n",
       "    <tr>\n",
       "      <th>4</th>\n",
       "      <td>4</td>\n",
       "      <td>AwesomeBut some time can not listenOver all good</td>\n",
       "      <td>14-Aug-23</td>\n",
       "    </tr>\n",
       "  </tbody>\n",
       "</table>\n",
       "</div>"
      ],
      "text/plain": [
       "   Rating                                             Review Review_Date\n",
       "0       4  I liked this gen very much. The only disadvant...   30-Aug-23\n",
       "1       3  This latest version of Echo Dot may be a bette...   15-Aug-23\n",
       "2       4  it could  not be possible to reset it at my ne...   21-Aug-23\n",
       "3       4                 Nothing great then previous ones .   25-Aug-23\n",
       "4       4   AwesomeBut some time can not listenOver all good   14-Aug-23"
      ]
     },
     "execution_count": 258,
     "metadata": {},
     "output_type": "execute_result"
    }
   ],
   "source": [
    "columns_to_drop = ['Unnamed: 0', 'Title',]\n",
    "full_df.drop(columns_to_drop,axis=1, inplace=True)\n",
    "full_df.head()"
   ]
  },
  {
   "cell_type": "markdown",
   "metadata": {},
   "source": [
    "#### We have learned about the data wrangling before so lets first do some cleaning task.\n",
    "- Changing the format of date"
   ]
  },
  {
   "cell_type": "code",
   "execution_count": 259,
   "metadata": {},
   "outputs": [],
   "source": [
    "# full_df['Review_Date'] = pd.to_datetime(df['Review_Date'])\n",
    "# full_df['Review_Date'] = full_df['Review_Date'].dt.strftime('%Y-%m-%d')\n",
    "# full_df.head(2)"
   ]
  },
  {
   "cell_type": "markdown",
   "metadata": {},
   "source": [
    "### Now lets work on Review column of the data."
   ]
  },
  {
   "cell_type": "code",
   "execution_count": 260,
   "metadata": {},
   "outputs": [
    {
     "data": {
      "text/html": [
       "<div>\n",
       "<style scoped>\n",
       "    .dataframe tbody tr th:only-of-type {\n",
       "        vertical-align: middle;\n",
       "    }\n",
       "\n",
       "    .dataframe tbody tr th {\n",
       "        vertical-align: top;\n",
       "    }\n",
       "\n",
       "    .dataframe thead th {\n",
       "        text-align: right;\n",
       "    }\n",
       "</style>\n",
       "<table border=\"1\" class=\"dataframe\">\n",
       "  <thead>\n",
       "    <tr style=\"text-align: right;\">\n",
       "      <th></th>\n",
       "      <th>Review</th>\n",
       "    </tr>\n",
       "  </thead>\n",
       "  <tbody>\n",
       "    <tr>\n",
       "      <th>0</th>\n",
       "      <td>I liked this gen very much. The only disadvant...</td>\n",
       "    </tr>\n",
       "    <tr>\n",
       "      <th>1</th>\n",
       "      <td>This latest version of Echo Dot may be a bette...</td>\n",
       "    </tr>\n",
       "    <tr>\n",
       "      <th>2</th>\n",
       "      <td>it could  not be possible to reset it at my ne...</td>\n",
       "    </tr>\n",
       "  </tbody>\n",
       "</table>\n",
       "</div>"
      ],
      "text/plain": [
       "                                              Review\n",
       "0  I liked this gen very much. The only disadvant...\n",
       "1  This latest version of Echo Dot may be a bette...\n",
       "2  it could  not be possible to reset it at my ne..."
      ]
     },
     "execution_count": 260,
     "metadata": {},
     "output_type": "execute_result"
    }
   ],
   "source": [
    "df = full_df[[\"Review\"]]\n",
    "df[\"Review\"] = df[\"Review\"].astype(str)\n",
    "df.head(3)"
   ]
  },
  {
   "cell_type": "markdown",
   "metadata": {},
   "source": [
    "### Lower Casing\n",
    "Lower casing is a common text preprocessing technique. The idea is to convert the input text into same casing format so that 'text', 'Text' and 'TEXT' are treated the same way."
   ]
  },
  {
   "cell_type": "code",
   "execution_count": 261,
   "metadata": {},
   "outputs": [
    {
     "data": {
      "text/html": [
       "<div>\n",
       "<style scoped>\n",
       "    .dataframe tbody tr th:only-of-type {\n",
       "        vertical-align: middle;\n",
       "    }\n",
       "\n",
       "    .dataframe tbody tr th {\n",
       "        vertical-align: top;\n",
       "    }\n",
       "\n",
       "    .dataframe thead th {\n",
       "        text-align: right;\n",
       "    }\n",
       "</style>\n",
       "<table border=\"1\" class=\"dataframe\">\n",
       "  <thead>\n",
       "    <tr style=\"text-align: right;\">\n",
       "      <th></th>\n",
       "      <th>Review</th>\n",
       "    </tr>\n",
       "  </thead>\n",
       "  <tbody>\n",
       "    <tr>\n",
       "      <th>0</th>\n",
       "      <td>i liked this gen very much. the only disadvant...</td>\n",
       "    </tr>\n",
       "    <tr>\n",
       "      <th>1</th>\n",
       "      <td>this latest version of echo dot may be a bette...</td>\n",
       "    </tr>\n",
       "    <tr>\n",
       "      <th>2</th>\n",
       "      <td>it could  not be possible to reset it at my ne...</td>\n",
       "    </tr>\n",
       "    <tr>\n",
       "      <th>3</th>\n",
       "      <td>nothing great then previous ones .</td>\n",
       "    </tr>\n",
       "    <tr>\n",
       "      <th>4</th>\n",
       "      <td>awesomebut some time can not listenover all good</td>\n",
       "    </tr>\n",
       "  </tbody>\n",
       "</table>\n",
       "</div>"
      ],
      "text/plain": [
       "                                              Review\n",
       "0  i liked this gen very much. the only disadvant...\n",
       "1  this latest version of echo dot may be a bette...\n",
       "2  it could  not be possible to reset it at my ne...\n",
       "3                 nothing great then previous ones .\n",
       "4   awesomebut some time can not listenover all good"
      ]
     },
     "execution_count": 261,
     "metadata": {},
     "output_type": "execute_result"
    }
   ],
   "source": [
    "df[\"Review\"] = df[\"Review\"].str.lower()\n",
    "df.head()"
   ]
  },
  {
   "cell_type": "markdown",
   "metadata": {},
   "source": [
    "### Removal of Punctuations\n",
    "One another common text preprocessing technique is to remove the punctuations from the text data. This is again a text standardization process that will help to treat 'hurray' and 'hurray!' in the same way.\n",
    "string.punctuation gives => \n",
    "\n",
    "`!\"#$%&\\'()*+,-./:;<=>?@[\\\\]^_{|}~`"
   ]
  },
  {
   "cell_type": "code",
   "execution_count": 262,
   "metadata": {},
   "outputs": [
    {
     "data": {
      "text/html": [
       "<div>\n",
       "<style scoped>\n",
       "    .dataframe tbody tr th:only-of-type {\n",
       "        vertical-align: middle;\n",
       "    }\n",
       "\n",
       "    .dataframe tbody tr th {\n",
       "        vertical-align: top;\n",
       "    }\n",
       "\n",
       "    .dataframe thead th {\n",
       "        text-align: right;\n",
       "    }\n",
       "</style>\n",
       "<table border=\"1\" class=\"dataframe\">\n",
       "  <thead>\n",
       "    <tr style=\"text-align: right;\">\n",
       "      <th></th>\n",
       "      <th>Review</th>\n",
       "      <th>text_wo_punct</th>\n",
       "    </tr>\n",
       "  </thead>\n",
       "  <tbody>\n",
       "    <tr>\n",
       "      <th>0</th>\n",
       "      <td>i liked this gen very much. the only disadvant...</td>\n",
       "      <td>i liked this gen very much the only disadvanta...</td>\n",
       "    </tr>\n",
       "    <tr>\n",
       "      <th>1</th>\n",
       "      <td>this latest version of echo dot may be a bette...</td>\n",
       "      <td>this latest version of echo dot may be a bette...</td>\n",
       "    </tr>\n",
       "    <tr>\n",
       "      <th>2</th>\n",
       "      <td>it could  not be possible to reset it at my ne...</td>\n",
       "      <td>it could  not be possible to reset it at my ne...</td>\n",
       "    </tr>\n",
       "    <tr>\n",
       "      <th>3</th>\n",
       "      <td>nothing great then previous ones .</td>\n",
       "      <td>nothing great then previous ones</td>\n",
       "    </tr>\n",
       "    <tr>\n",
       "      <th>4</th>\n",
       "      <td>awesomebut some time can not listenover all good</td>\n",
       "      <td>awesomebut some time can not listenover all good</td>\n",
       "    </tr>\n",
       "  </tbody>\n",
       "</table>\n",
       "</div>"
      ],
      "text/plain": [
       "                                              Review  \\\n",
       "0  i liked this gen very much. the only disadvant...   \n",
       "1  this latest version of echo dot may be a bette...   \n",
       "2  it could  not be possible to reset it at my ne...   \n",
       "3                 nothing great then previous ones .   \n",
       "4   awesomebut some time can not listenover all good   \n",
       "\n",
       "                                       text_wo_punct  \n",
       "0  i liked this gen very much the only disadvanta...  \n",
       "1  this latest version of echo dot may be a bette...  \n",
       "2  it could  not be possible to reset it at my ne...  \n",
       "3                  nothing great then previous ones   \n",
       "4   awesomebut some time can not listenover all good  "
      ]
     },
     "execution_count": 262,
     "metadata": {},
     "output_type": "execute_result"
    }
   ],
   "source": [
    "PUNCT_TO_REMOVE = string.punctuation\n",
    "def remove_punctuation(text):\n",
    "    \"\"\"custom function to remove the punctuation\"\"\"\n",
    "    return text.translate(str.maketrans('', '', PUNCT_TO_REMOVE))\n",
    "\n",
    "df[\"text_wo_punct\"] = df[\"Review\"].apply(lambda text: remove_punctuation(text))\n",
    "df.head()"
   ]
  },
  {
   "cell_type": "markdown",
   "metadata": {},
   "source": [
    "### Removal of stopwords  \n",
    "Stopwords are commonly occuring words in a language like 'the', 'a' and so on. They can be removed from the text most of the times, as they don't provide valuable information for downstream analysis."
   ]
  },
  {
   "cell_type": "code",
   "execution_count": 263,
   "metadata": {},
   "outputs": [
    {
     "data": {
      "text/plain": [
       "\"i, me, my, myself, we, our, ours, ourselves, you, you're, you've, you'll, you'd, your, yours, yourself, yourselves, he, him, his, himself, she, she's, her, hers, herself, it, it's, its, itself, they, them, their, theirs, themselves, what, which, who, whom, this, that, that'll, these, those, am, is, are, was, were, be, been, being, have, has, had, having, do, does, did, doing, a, an, the, and, but, if, or, because, as, until, while, of, at, by, for, with, about, against, between, into, through, during, before, after, above, below, to, from, up, down, in, out, on, off, over, under, again, further, then, once, here, there, when, where, why, how, all, any, both, each, few, more, most, other, some, such, no, nor, not, only, own, same, so, than, too, very, s, t, can, will, just, don, don't, should, should've, now, d, ll, m, o, re, ve, y, ain, aren, aren't, couldn, couldn't, didn, didn't, doesn, doesn't, hadn, hadn't, hasn, hasn't, haven, haven't, isn, isn't, ma, mightn, mightn't, mustn, mustn't, needn, needn't, shan, shan't, shouldn, shouldn't, wasn, wasn't, weren, weren't, won, won't, wouldn, wouldn't\""
      ]
     },
     "execution_count": 263,
     "metadata": {},
     "output_type": "execute_result"
    }
   ],
   "source": [
    "# Actual words present in stopwords\n",
    "from nltk.corpus import stopwords\n",
    "\", \".join(stopwords.words('english'))"
   ]
  },
  {
   "cell_type": "code",
   "execution_count": 264,
   "metadata": {},
   "outputs": [
    {
     "data": {
      "text/html": [
       "<div>\n",
       "<style scoped>\n",
       "    .dataframe tbody tr th:only-of-type {\n",
       "        vertical-align: middle;\n",
       "    }\n",
       "\n",
       "    .dataframe tbody tr th {\n",
       "        vertical-align: top;\n",
       "    }\n",
       "\n",
       "    .dataframe thead th {\n",
       "        text-align: right;\n",
       "    }\n",
       "</style>\n",
       "<table border=\"1\" class=\"dataframe\">\n",
       "  <thead>\n",
       "    <tr style=\"text-align: right;\">\n",
       "      <th></th>\n",
       "      <th>Review</th>\n",
       "      <th>text_wo_punct</th>\n",
       "      <th>text_wo_stop</th>\n",
       "    </tr>\n",
       "  </thead>\n",
       "  <tbody>\n",
       "    <tr>\n",
       "      <th>0</th>\n",
       "      <td>i liked this gen very much. the only disadvant...</td>\n",
       "      <td>i liked this gen very much the only disadvanta...</td>\n",
       "      <td>liked gen much disadvantage found alexa way du...</td>\n",
       "    </tr>\n",
       "    <tr>\n",
       "      <th>1</th>\n",
       "      <td>this latest version of echo dot may be a bette...</td>\n",
       "      <td>this latest version of echo dot may be a bette...</td>\n",
       "      <td>latest version echo dot may better version pre...</td>\n",
       "    </tr>\n",
       "    <tr>\n",
       "      <th>2</th>\n",
       "      <td>it could  not be possible to reset it at my ne...</td>\n",
       "      <td>it could  not be possible to reset it at my ne...</td>\n",
       "      <td>could possible reset new locatioon customer he...</td>\n",
       "    </tr>\n",
       "    <tr>\n",
       "      <th>3</th>\n",
       "      <td>nothing great then previous ones .</td>\n",
       "      <td>nothing great then previous ones</td>\n",
       "      <td>nothing great previous ones</td>\n",
       "    </tr>\n",
       "    <tr>\n",
       "      <th>4</th>\n",
       "      <td>awesomebut some time can not listenover all good</td>\n",
       "      <td>awesomebut some time can not listenover all good</td>\n",
       "      <td>awesomebut time listenover good</td>\n",
       "    </tr>\n",
       "  </tbody>\n",
       "</table>\n",
       "</div>"
      ],
      "text/plain": [
       "                                              Review  \\\n",
       "0  i liked this gen very much. the only disadvant...   \n",
       "1  this latest version of echo dot may be a bette...   \n",
       "2  it could  not be possible to reset it at my ne...   \n",
       "3                 nothing great then previous ones .   \n",
       "4   awesomebut some time can not listenover all good   \n",
       "\n",
       "                                       text_wo_punct  \\\n",
       "0  i liked this gen very much the only disadvanta...   \n",
       "1  this latest version of echo dot may be a bette...   \n",
       "2  it could  not be possible to reset it at my ne...   \n",
       "3                  nothing great then previous ones    \n",
       "4   awesomebut some time can not listenover all good   \n",
       "\n",
       "                                        text_wo_stop  \n",
       "0  liked gen much disadvantage found alexa way du...  \n",
       "1  latest version echo dot may better version pre...  \n",
       "2  could possible reset new locatioon customer he...  \n",
       "3                        nothing great previous ones  \n",
       "4                    awesomebut time listenover good  "
      ]
     },
     "execution_count": 264,
     "metadata": {},
     "output_type": "execute_result"
    }
   ],
   "source": [
    "STOPWORDS = set(stopwords.words('english'))\n",
    "def remove_stopwords(text):\n",
    "    \"\"\"custom function to remove the stopwords\"\"\"\n",
    "    return \" \".join([word for word in str(text).split() if word not in STOPWORDS])\n",
    "\n",
    "df[\"text_wo_stop\"] = df[\"text_wo_punct\"].apply(lambda text: remove_stopwords(text))\n",
    "df.head()"
   ]
  },
  {
   "cell_type": "markdown",
   "metadata": {},
   "source": [
    "### Removal of Frequent words\n",
    "We might also have some frequent words which are of not so much importance to us.\n",
    "\n",
    "**Note : If we use something like tfidf, this is automatically taken care of**.\n",
    "\n",
    "\n"
   ]
  },
  {
   "cell_type": "code",
   "execution_count": 265,
   "metadata": {},
   "outputs": [
    {
     "data": {
      "text/plain": [
       "[('alexa', 28),\n",
       " ('good', 25),\n",
       " ('product', 21),\n",
       " ('like', 15),\n",
       " ('sound', 15),\n",
       " ('quality', 15),\n",
       " ('echo', 13),\n",
       " ('device', 13),\n",
       " ('dot', 11),\n",
       " ('times', 11)]"
      ]
     },
     "execution_count": 265,
     "metadata": {},
     "output_type": "execute_result"
    }
   ],
   "source": [
    "from collections import Counter\n",
    "cnt = Counter()\n",
    "for text in df[\"text_wo_stop\"].values:\n",
    "    for word in text.split():\n",
    "        cnt[word] += 1\n",
    "        \n",
    "cnt.most_common(10)"
   ]
  },
  {
   "cell_type": "markdown",
   "metadata": {},
   "source": [
    "Here the word \"alexa\" appears maximum times(28) in data, so lets remove some frequent words as well.\n",
    "Lets try to remove the top 10 most frequent words of data."
   ]
  },
  {
   "cell_type": "code",
   "execution_count": 266,
   "metadata": {},
   "outputs": [
    {
     "data": {
      "text/html": [
       "<div>\n",
       "<style scoped>\n",
       "    .dataframe tbody tr th:only-of-type {\n",
       "        vertical-align: middle;\n",
       "    }\n",
       "\n",
       "    .dataframe tbody tr th {\n",
       "        vertical-align: top;\n",
       "    }\n",
       "\n",
       "    .dataframe thead th {\n",
       "        text-align: right;\n",
       "    }\n",
       "</style>\n",
       "<table border=\"1\" class=\"dataframe\">\n",
       "  <thead>\n",
       "    <tr style=\"text-align: right;\">\n",
       "      <th></th>\n",
       "      <th>Review</th>\n",
       "      <th>text_wo_punct</th>\n",
       "      <th>text_wo_stop</th>\n",
       "      <th>text_wo_stopfreq</th>\n",
       "    </tr>\n",
       "  </thead>\n",
       "  <tbody>\n",
       "    <tr>\n",
       "      <th>0</th>\n",
       "      <td>i liked this gen very much. the only disadvant...</td>\n",
       "      <td>i liked this gen very much the only disadvanta...</td>\n",
       "      <td>liked gen much disadvantage found alexa way du...</td>\n",
       "      <td>liked gen much disadvantage found way dumb las...</td>\n",
       "    </tr>\n",
       "    <tr>\n",
       "      <th>1</th>\n",
       "      <td>this latest version of echo dot may be a bette...</td>\n",
       "      <td>this latest version of echo dot may be a bette...</td>\n",
       "      <td>latest version echo dot may better version pre...</td>\n",
       "      <td>latest version may better version previous one...</td>\n",
       "    </tr>\n",
       "    <tr>\n",
       "      <th>2</th>\n",
       "      <td>it could  not be possible to reset it at my ne...</td>\n",
       "      <td>it could  not be possible to reset it at my ne...</td>\n",
       "      <td>could possible reset new locatioon customer he...</td>\n",
       "      <td>could possible reset new locatioon customer he...</td>\n",
       "    </tr>\n",
       "    <tr>\n",
       "      <th>3</th>\n",
       "      <td>nothing great then previous ones .</td>\n",
       "      <td>nothing great then previous ones</td>\n",
       "      <td>nothing great previous ones</td>\n",
       "      <td>nothing great previous ones</td>\n",
       "    </tr>\n",
       "    <tr>\n",
       "      <th>4</th>\n",
       "      <td>awesomebut some time can not listenover all good</td>\n",
       "      <td>awesomebut some time can not listenover all good</td>\n",
       "      <td>awesomebut time listenover good</td>\n",
       "      <td>awesomebut time listenover</td>\n",
       "    </tr>\n",
       "  </tbody>\n",
       "</table>\n",
       "</div>"
      ],
      "text/plain": [
       "                                              Review  \\\n",
       "0  i liked this gen very much. the only disadvant...   \n",
       "1  this latest version of echo dot may be a bette...   \n",
       "2  it could  not be possible to reset it at my ne...   \n",
       "3                 nothing great then previous ones .   \n",
       "4   awesomebut some time can not listenover all good   \n",
       "\n",
       "                                       text_wo_punct  \\\n",
       "0  i liked this gen very much the only disadvanta...   \n",
       "1  this latest version of echo dot may be a bette...   \n",
       "2  it could  not be possible to reset it at my ne...   \n",
       "3                  nothing great then previous ones    \n",
       "4   awesomebut some time can not listenover all good   \n",
       "\n",
       "                                        text_wo_stop  \\\n",
       "0  liked gen much disadvantage found alexa way du...   \n",
       "1  latest version echo dot may better version pre...   \n",
       "2  could possible reset new locatioon customer he...   \n",
       "3                        nothing great previous ones   \n",
       "4                    awesomebut time listenover good   \n",
       "\n",
       "                                    text_wo_stopfreq  \n",
       "0  liked gen much disadvantage found way dumb las...  \n",
       "1  latest version may better version previous one...  \n",
       "2  could possible reset new locatioon customer he...  \n",
       "3                        nothing great previous ones  \n",
       "4                         awesomebut time listenover  "
      ]
     },
     "execution_count": 266,
     "metadata": {},
     "output_type": "execute_result"
    }
   ],
   "source": [
    "FREQWORDS = set([w for (w, wc) in cnt.most_common(10)])\n",
    "def remove_freqwords(text):\n",
    "    \"\"\"custom function to remove the frequent words\"\"\"\n",
    "    return \" \".join([word for word in str(text).split() if word not in FREQWORDS])\n",
    "\n",
    "df[\"text_wo_stopfreq\"] = df[\"text_wo_stop\"].apply(lambda text: remove_freqwords(text))\n",
    "df.head()"
   ]
  },
  {
   "cell_type": "markdown",
   "metadata": {},
   "source": [
    "Lets check frequent words again."
   ]
  },
  {
   "cell_type": "code",
   "execution_count": 267,
   "metadata": {},
   "outputs": [
    {
     "data": {
      "text/plain": [
       "[('music', 11),\n",
       " ('amazon', 11),\n",
       " ('working', 10),\n",
       " ('doesnt', 10),\n",
       " ('time', 9),\n",
       " ('one', 9),\n",
       " ('work', 8),\n",
       " ('smart', 8),\n",
       " ('gen', 7),\n",
       " ('understand', 7)]"
      ]
     },
     "execution_count": 267,
     "metadata": {},
     "output_type": "execute_result"
    }
   ],
   "source": [
    "from collections import Counter\n",
    "cnt = Counter()\n",
    "for text in df[\"text_wo_stopfreq\"].values:\n",
    "    for word in text.split():\n",
    "        cnt[word] += 1\n",
    "        \n",
    "cnt.most_common(10)"
   ]
  },
  {
   "cell_type": "markdown",
   "metadata": {},
   "source": [
    "Now we dont need these two columns. \n",
    "[\"text_wo_punct\", \"text_wo_stop\"]"
   ]
  },
  {
   "cell_type": "code",
   "execution_count": 268,
   "metadata": {},
   "outputs": [],
   "source": [
    "\n",
    "df.drop([\"text_wo_punct\", \"text_wo_stop\"], axis=1, inplace=True)\n"
   ]
  },
  {
   "cell_type": "markdown",
   "metadata": {},
   "source": [
    "### Removal of Rare words\n",
    "We have to remove the rare words from the corpus also, cause they may not have actual impact further. "
   ]
  },
  {
   "cell_type": "markdown",
   "metadata": {},
   "source": [
    "Lets find out 10 most rare words out there in data."
   ]
  },
  {
   "cell_type": "code",
   "execution_count": 269,
   "metadata": {},
   "outputs": [
    {
     "data": {
      "text/plain": [
       "{'airtel',\n",
       " 'another',\n",
       " 'broadband',\n",
       " 'charger',\n",
       " 'havr',\n",
       " 'launch',\n",
       " 'refusing',\n",
       " 'unhappy',\n",
       " 'years',\n",
       " '😁superb'}"
      ]
     },
     "execution_count": 269,
     "metadata": {},
     "output_type": "execute_result"
    }
   ],
   "source": [
    "n_rare_words = 10\n",
    "\n",
    "RAREWORDS = set([w for (w, wc) in cnt.most_common()[:-n_rare_words-1:-1]])\n",
    "RAREWORDS"
   ]
  },
  {
   "cell_type": "code",
   "execution_count": 270,
   "metadata": {},
   "outputs": [
    {
     "data": {
      "text/html": [
       "<div>\n",
       "<style scoped>\n",
       "    .dataframe tbody tr th:only-of-type {\n",
       "        vertical-align: middle;\n",
       "    }\n",
       "\n",
       "    .dataframe tbody tr th {\n",
       "        vertical-align: top;\n",
       "    }\n",
       "\n",
       "    .dataframe thead th {\n",
       "        text-align: right;\n",
       "    }\n",
       "</style>\n",
       "<table border=\"1\" class=\"dataframe\">\n",
       "  <thead>\n",
       "    <tr style=\"text-align: right;\">\n",
       "      <th></th>\n",
       "      <th>Review</th>\n",
       "      <th>text_wo_stopfreq</th>\n",
       "      <th>text_wo_stopfreqrare</th>\n",
       "    </tr>\n",
       "  </thead>\n",
       "  <tbody>\n",
       "    <tr>\n",
       "      <th>0</th>\n",
       "      <td>i liked this gen very much. the only disadvant...</td>\n",
       "      <td>liked gen much disadvantage found way dumb las...</td>\n",
       "      <td>liked gen much disadvantage found way dumb las...</td>\n",
       "    </tr>\n",
       "    <tr>\n",
       "      <th>1</th>\n",
       "      <td>this latest version of echo dot may be a bette...</td>\n",
       "      <td>latest version may better version previous one...</td>\n",
       "      <td>latest version may better version previous one...</td>\n",
       "    </tr>\n",
       "    <tr>\n",
       "      <th>2</th>\n",
       "      <td>it could  not be possible to reset it at my ne...</td>\n",
       "      <td>could possible reset new locatioon customer he...</td>\n",
       "      <td>could possible reset new locatioon customer he...</td>\n",
       "    </tr>\n",
       "    <tr>\n",
       "      <th>3</th>\n",
       "      <td>nothing great then previous ones .</td>\n",
       "      <td>nothing great previous ones</td>\n",
       "      <td>nothing great previous ones</td>\n",
       "    </tr>\n",
       "    <tr>\n",
       "      <th>4</th>\n",
       "      <td>awesomebut some time can not listenover all good</td>\n",
       "      <td>awesomebut time listenover</td>\n",
       "      <td>awesomebut time listenover</td>\n",
       "    </tr>\n",
       "  </tbody>\n",
       "</table>\n",
       "</div>"
      ],
      "text/plain": [
       "                                              Review  \\\n",
       "0  i liked this gen very much. the only disadvant...   \n",
       "1  this latest version of echo dot may be a bette...   \n",
       "2  it could  not be possible to reset it at my ne...   \n",
       "3                 nothing great then previous ones .   \n",
       "4   awesomebut some time can not listenover all good   \n",
       "\n",
       "                                    text_wo_stopfreq  \\\n",
       "0  liked gen much disadvantage found way dumb las...   \n",
       "1  latest version may better version previous one...   \n",
       "2  could possible reset new locatioon customer he...   \n",
       "3                        nothing great previous ones   \n",
       "4                         awesomebut time listenover   \n",
       "\n",
       "                                text_wo_stopfreqrare  \n",
       "0  liked gen much disadvantage found way dumb las...  \n",
       "1  latest version may better version previous one...  \n",
       "2  could possible reset new locatioon customer he...  \n",
       "3                        nothing great previous ones  \n",
       "4                         awesomebut time listenover  "
      ]
     },
     "execution_count": 270,
     "metadata": {},
     "output_type": "execute_result"
    }
   ],
   "source": [
    "n_rare_words = 10\n",
    "\n",
    "RAREWORDS = set([w for (w, wc) in cnt.most_common()[:-n_rare_words-1:-1]])\n",
    "\n",
    "def remove_rarewords(text):\n",
    "    \"\"\"custom function to remove the rare words\"\"\"\n",
    "    return \" \".join([word for word in str(text).split() if word not in RAREWORDS])\n",
    "\n",
    "df[\"text_wo_stopfreqrare\"] = df[\"text_wo_stopfreq\"].apply(lambda text: remove_rarewords(text))\n",
    "df.head()"
   ]
  },
  {
   "cell_type": "code",
   "execution_count": 271,
   "metadata": {},
   "outputs": [
    {
     "data": {
      "text/html": [
       "<div>\n",
       "<style scoped>\n",
       "    .dataframe tbody tr th:only-of-type {\n",
       "        vertical-align: middle;\n",
       "    }\n",
       "\n",
       "    .dataframe tbody tr th {\n",
       "        vertical-align: top;\n",
       "    }\n",
       "\n",
       "    .dataframe thead th {\n",
       "        text-align: right;\n",
       "    }\n",
       "</style>\n",
       "<table border=\"1\" class=\"dataframe\">\n",
       "  <thead>\n",
       "    <tr style=\"text-align: right;\">\n",
       "      <th></th>\n",
       "      <th>Review</th>\n",
       "      <th>text_wo_stopfreqrare</th>\n",
       "    </tr>\n",
       "  </thead>\n",
       "  <tbody>\n",
       "    <tr>\n",
       "      <th>0</th>\n",
       "      <td>i liked this gen very much. the only disadvant...</td>\n",
       "      <td>liked gen much disadvantage found way dumb las...</td>\n",
       "    </tr>\n",
       "    <tr>\n",
       "      <th>1</th>\n",
       "      <td>this latest version of echo dot may be a bette...</td>\n",
       "      <td>latest version may better version previous one...</td>\n",
       "    </tr>\n",
       "  </tbody>\n",
       "</table>\n",
       "</div>"
      ],
      "text/plain": [
       "                                              Review  \\\n",
       "0  i liked this gen very much. the only disadvant...   \n",
       "1  this latest version of echo dot may be a bette...   \n",
       "\n",
       "                                text_wo_stopfreqrare  \n",
       "0  liked gen much disadvantage found way dumb las...  \n",
       "1  latest version may better version previous one...  "
      ]
     },
     "execution_count": 271,
     "metadata": {},
     "output_type": "execute_result"
    }
   ],
   "source": [
    "# We dont need this column either.\n",
    "df.drop([\"text_wo_stopfreq\"], axis=1, inplace=True) \n",
    "df.head(2)"
   ]
  },
  {
   "cell_type": "markdown",
   "metadata": {},
   "source": [
    "### Stemming\n",
    "\n",
    "It is used to reduce words to their root or base form. It involves removing prefixes and suffixes from words to obtain their core meaning or root form.  \n",
    "\n",
    "  \n",
    "  \n",
    "For example, if there are two words in the corpus walks and walking, then stemming will stem the suffix to make them walk. But say in another example, we have two words console and consoling, the stemmer will remove the suffix and make them consol which is not a proper english word.\n",
    "  \n",
    "  There are several type of stemming algorithms available and one of the famous one is porter stemmer which is widely used. We can use nltk package for the same.\n",
    "\n"
   ]
  },
  {
   "cell_type": "code",
   "execution_count": 272,
   "metadata": {},
   "outputs": [
    {
     "data": {
      "text/html": [
       "<div>\n",
       "<style scoped>\n",
       "    .dataframe tbody tr th:only-of-type {\n",
       "        vertical-align: middle;\n",
       "    }\n",
       "\n",
       "    .dataframe tbody tr th {\n",
       "        vertical-align: top;\n",
       "    }\n",
       "\n",
       "    .dataframe thead th {\n",
       "        text-align: right;\n",
       "    }\n",
       "</style>\n",
       "<table border=\"1\" class=\"dataframe\">\n",
       "  <thead>\n",
       "    <tr style=\"text-align: right;\">\n",
       "      <th></th>\n",
       "      <th>Review</th>\n",
       "      <th>text_wo_stopfreqrare</th>\n",
       "      <th>text_stemmed</th>\n",
       "    </tr>\n",
       "  </thead>\n",
       "  <tbody>\n",
       "    <tr>\n",
       "      <th>0</th>\n",
       "      <td>i liked this gen very much. the only disadvant...</td>\n",
       "      <td>liked gen much disadvantage found way dumb las...</td>\n",
       "      <td>like gen much disadvantag found way dumb last ...</td>\n",
       "    </tr>\n",
       "    <tr>\n",
       "      <th>1</th>\n",
       "      <td>this latest version of echo dot may be a bette...</td>\n",
       "      <td>latest version may better version previous one...</td>\n",
       "      <td>latest version may better version previou one ...</td>\n",
       "    </tr>\n",
       "    <tr>\n",
       "      <th>2</th>\n",
       "      <td>it could  not be possible to reset it at my ne...</td>\n",
       "      <td>could possible reset new locatioon customer he...</td>\n",
       "      <td>could possibl reset new locatioon custom help ...</td>\n",
       "    </tr>\n",
       "    <tr>\n",
       "      <th>3</th>\n",
       "      <td>nothing great then previous ones .</td>\n",
       "      <td>nothing great previous ones</td>\n",
       "      <td>noth great previou one</td>\n",
       "    </tr>\n",
       "    <tr>\n",
       "      <th>4</th>\n",
       "      <td>awesomebut some time can not listenover all good</td>\n",
       "      <td>awesomebut time listenover</td>\n",
       "      <td>awesomebut time listenov</td>\n",
       "    </tr>\n",
       "  </tbody>\n",
       "</table>\n",
       "</div>"
      ],
      "text/plain": [
       "                                              Review  \\\n",
       "0  i liked this gen very much. the only disadvant...   \n",
       "1  this latest version of echo dot may be a bette...   \n",
       "2  it could  not be possible to reset it at my ne...   \n",
       "3                 nothing great then previous ones .   \n",
       "4   awesomebut some time can not listenover all good   \n",
       "\n",
       "                                text_wo_stopfreqrare  \\\n",
       "0  liked gen much disadvantage found way dumb las...   \n",
       "1  latest version may better version previous one...   \n",
       "2  could possible reset new locatioon customer he...   \n",
       "3                        nothing great previous ones   \n",
       "4                         awesomebut time listenover   \n",
       "\n",
       "                                        text_stemmed  \n",
       "0  like gen much disadvantag found way dumb last ...  \n",
       "1  latest version may better version previou one ...  \n",
       "2  could possibl reset new locatioon custom help ...  \n",
       "3                             noth great previou one  \n",
       "4                           awesomebut time listenov  "
      ]
     },
     "execution_count": 272,
     "metadata": {},
     "output_type": "execute_result"
    }
   ],
   "source": [
    "from nltk.stem.porter import PorterStemmer\n",
    "\n",
    "stemmer = PorterStemmer()\n",
    "def stem_words(text):\n",
    "    return \" \".join([stemmer.stem(word) for word in text.split()])\n",
    "\n",
    "df[\"text_stemmed\"] = df[\"text_wo_stopfreqrare\"].apply(lambda text: stem_words(text))\n",
    "df.head()"
   ]
  },
  {
   "cell_type": "markdown",
   "metadata": {},
   "source": [
    "**BUT**,  \n",
    " One of the main disadvantages of stemming is over-stemming, where a stemmer removes prefixes or suffixes that are part of the actual word. This can result in the loss of important information. On the flip side, under-stemming occurs when a stemmer fails to remove a suffix that should be removed.   \n",
    "\n",
    " Stemming typically doesn't consider the semantics or meaning of words. It treats words purely based on their textual patterns. This can lead to words with different meanings being stemmed to the same root, causing ambiguity.  \n",
    "\n",
    "Stemming algorithms are language-dependent. Stemming algorithms may produce stems that are not standard words in the language.  \n",
    "\n",
    "**SO**,  \n",
    "More advanced techniques like lemmatization or contextual embeddings (e.g., Word2Vec or BERT) may be preferred over stemming to capture word meanings and relationships more accurately.\n",
    "\n"
   ]
  },
  {
   "cell_type": "markdown",
   "metadata": {},
   "source": [
    "## Lemmatization\n",
    "Lemmatization is similar to stemming in reducing inflected words to their word stem but differs in the way that it makes sure the root word (also called as lemma) belongs to the language.\n",
    "\n",
    "As a result, this one is generally slower than stemming process. So depending on the speed requirement, we can choose to use either stemming or lemmatization."
   ]
  },
  {
   "cell_type": "code",
   "execution_count": 273,
   "metadata": {},
   "outputs": [
    {
     "name": "stderr",
     "output_type": "stream",
     "text": [
      "[nltk_data] Downloading package wordnet to /home/sujan/nltk_data...\n",
      "[nltk_data]   Package wordnet is already up-to-date!\n"
     ]
    },
    {
     "data": {
      "text/plain": [
       "True"
      ]
     },
     "execution_count": 273,
     "metadata": {},
     "output_type": "execute_result"
    }
   ],
   "source": [
    "import nltk\n",
    "nltk.download('wordnet')"
   ]
  },
  {
   "cell_type": "code",
   "execution_count": 274,
   "metadata": {},
   "outputs": [
    {
     "data": {
      "text/html": [
       "<div>\n",
       "<style scoped>\n",
       "    .dataframe tbody tr th:only-of-type {\n",
       "        vertical-align: middle;\n",
       "    }\n",
       "\n",
       "    .dataframe tbody tr th {\n",
       "        vertical-align: top;\n",
       "    }\n",
       "\n",
       "    .dataframe thead th {\n",
       "        text-align: right;\n",
       "    }\n",
       "</style>\n",
       "<table border=\"1\" class=\"dataframe\">\n",
       "  <thead>\n",
       "    <tr style=\"text-align: right;\">\n",
       "      <th></th>\n",
       "      <th>Review</th>\n",
       "      <th>text_wo_stopfreqrare</th>\n",
       "      <th>text_stemmed</th>\n",
       "      <th>text_lemmatized</th>\n",
       "    </tr>\n",
       "  </thead>\n",
       "  <tbody>\n",
       "    <tr>\n",
       "      <th>0</th>\n",
       "      <td>i liked this gen very much. the only disadvant...</td>\n",
       "      <td>liked gen much disadvantage found way dumb las...</td>\n",
       "      <td>like gen much disadvantag found way dumb last ...</td>\n",
       "      <td>liked gen much disadvantage found way dumb las...</td>\n",
       "    </tr>\n",
       "    <tr>\n",
       "      <th>1</th>\n",
       "      <td>this latest version of echo dot may be a bette...</td>\n",
       "      <td>latest version may better version previous one...</td>\n",
       "      <td>latest version may better version previou one ...</td>\n",
       "      <td>latest version may better version previous one...</td>\n",
       "    </tr>\n",
       "    <tr>\n",
       "      <th>2</th>\n",
       "      <td>it could  not be possible to reset it at my ne...</td>\n",
       "      <td>could possible reset new locatioon customer he...</td>\n",
       "      <td>could possibl reset new locatioon custom help ...</td>\n",
       "      <td>could possible reset new locatioon customer he...</td>\n",
       "    </tr>\n",
       "    <tr>\n",
       "      <th>3</th>\n",
       "      <td>nothing great then previous ones .</td>\n",
       "      <td>nothing great previous ones</td>\n",
       "      <td>noth great previou one</td>\n",
       "      <td>nothing great previous one</td>\n",
       "    </tr>\n",
       "    <tr>\n",
       "      <th>4</th>\n",
       "      <td>awesomebut some time can not listenover all good</td>\n",
       "      <td>awesomebut time listenover</td>\n",
       "      <td>awesomebut time listenov</td>\n",
       "      <td>awesomebut time listenover</td>\n",
       "    </tr>\n",
       "    <tr>\n",
       "      <th>5</th>\n",
       "      <td>freedom sale i brought this with light. workin...</td>\n",
       "      <td>freedom sale brought light working 👍</td>\n",
       "      <td>freedom sale brought light work 👍</td>\n",
       "      <td>freedom sale brought light working 👍</td>\n",
       "    </tr>\n",
       "    <tr>\n",
       "      <th>6</th>\n",
       "      <td>good product. stayed upto the expectations. co...</td>\n",
       "      <td>stayed upto expectations could atleast 1000 lo...</td>\n",
       "      <td>stay upto expect could atleast 1000 lower side...</td>\n",
       "      <td>stayed upto expectation could atleast 1000 low...</td>\n",
       "    </tr>\n",
       "    <tr>\n",
       "      <th>7</th>\n",
       "      <td>good</td>\n",
       "      <td></td>\n",
       "      <td></td>\n",
       "      <td></td>\n",
       "    </tr>\n",
       "    <tr>\n",
       "      <th>8</th>\n",
       "      <td>very good connectivity with iphone and android...</td>\n",
       "      <td>connectivity iphone android build macho</td>\n",
       "      <td>connect iphon android build macho</td>\n",
       "      <td>connectivity iphone android build macho</td>\n",
       "    </tr>\n",
       "    <tr>\n",
       "      <th>9</th>\n",
       "      <td>the sound is so amazing that you are lost in y...</td>\n",
       "      <td>amazing lost ears feel skin whole body music p...</td>\n",
       "      <td>amaz lost ear feel skin whole bodi music play ...</td>\n",
       "      <td>amazing lost ear feel skin whole body music pl...</td>\n",
       "    </tr>\n",
       "  </tbody>\n",
       "</table>\n",
       "</div>"
      ],
      "text/plain": [
       "                                              Review  \\\n",
       "0  i liked this gen very much. the only disadvant...   \n",
       "1  this latest version of echo dot may be a bette...   \n",
       "2  it could  not be possible to reset it at my ne...   \n",
       "3                 nothing great then previous ones .   \n",
       "4   awesomebut some time can not listenover all good   \n",
       "5  freedom sale i brought this with light. workin...   \n",
       "6  good product. stayed upto the expectations. co...   \n",
       "7                                               good   \n",
       "8  very good connectivity with iphone and android...   \n",
       "9  the sound is so amazing that you are lost in y...   \n",
       "\n",
       "                                text_wo_stopfreqrare  \\\n",
       "0  liked gen much disadvantage found way dumb las...   \n",
       "1  latest version may better version previous one...   \n",
       "2  could possible reset new locatioon customer he...   \n",
       "3                        nothing great previous ones   \n",
       "4                         awesomebut time listenover   \n",
       "5               freedom sale brought light working 👍   \n",
       "6  stayed upto expectations could atleast 1000 lo...   \n",
       "7                                                      \n",
       "8            connectivity iphone android build macho   \n",
       "9  amazing lost ears feel skin whole body music p...   \n",
       "\n",
       "                                        text_stemmed  \\\n",
       "0  like gen much disadvantag found way dumb last ...   \n",
       "1  latest version may better version previou one ...   \n",
       "2  could possibl reset new locatioon custom help ...   \n",
       "3                             noth great previou one   \n",
       "4                           awesomebut time listenov   \n",
       "5                  freedom sale brought light work 👍   \n",
       "6  stay upto expect could atleast 1000 lower side...   \n",
       "7                                                      \n",
       "8                  connect iphon android build macho   \n",
       "9  amaz lost ear feel skin whole bodi music play ...   \n",
       "\n",
       "                                     text_lemmatized  \n",
       "0  liked gen much disadvantage found way dumb las...  \n",
       "1  latest version may better version previous one...  \n",
       "2  could possible reset new locatioon customer he...  \n",
       "3                         nothing great previous one  \n",
       "4                         awesomebut time listenover  \n",
       "5               freedom sale brought light working 👍  \n",
       "6  stayed upto expectation could atleast 1000 low...  \n",
       "7                                                     \n",
       "8            connectivity iphone android build macho  \n",
       "9  amazing lost ear feel skin whole body music pl...  "
      ]
     },
     "execution_count": 274,
     "metadata": {},
     "output_type": "execute_result"
    }
   ],
   "source": [
    "from nltk.stem import WordNetLemmatizer\n",
    "\n",
    "lemmatizer = WordNetLemmatizer()\n",
    "def lemmatize_words(text):\n",
    "    return \" \".join([lemmatizer.lemmatize(word) for word in text.split()])\n",
    "\n",
    "df[\"text_lemmatized\"] = df[\"text_wo_stopfreqrare\"].apply(lambda text: lemmatize_words(text))\n",
    "df.head(10)"
   ]
  },
  {
   "cell_type": "markdown",
   "metadata": {},
   "source": [
    "Lemmatization doesnot actually overcut the word, it does fair with word."
   ]
  },
  {
   "cell_type": "code",
   "execution_count": 275,
   "metadata": {},
   "outputs": [
    {
     "data": {
      "text/plain": [
       "'Nothing'"
      ]
     },
     "execution_count": 275,
     "metadata": {},
     "output_type": "execute_result"
    }
   ],
   "source": [
    "lemmatizer.lemmatize(\"Nothing\")\n"
   ]
  },
  {
   "cell_type": "markdown",
   "metadata": {},
   "source": [
    "We can do verb transformation as well."
   ]
  },
  {
   "cell_type": "code",
   "execution_count": 276,
   "metadata": {},
   "outputs": [
    {
     "data": {
      "text/plain": [
       "'bring'"
      ]
     },
     "execution_count": 276,
     "metadata": {},
     "output_type": "execute_result"
    }
   ],
   "source": [
    "lemmatizer.lemmatize(\"brought\",'v')\n"
   ]
  },
  {
   "cell_type": "markdown",
   "metadata": {},
   "source": [
    "#### Lets do further processing with 'text_lemmatized' cause in this data after stemming process is not so good."
   ]
  },
  {
   "cell_type": "markdown",
   "metadata": {},
   "source": [
    "### Removal of Emojis\n",
    "With more and more usage of social media platforms, there is an explosion in the usage of emojis in our day to day life as well. Probably we might need to remove these emojis for some of our textual analysis."
   ]
  },
  {
   "cell_type": "code",
   "execution_count": 277,
   "metadata": {},
   "outputs": [],
   "source": [
    "def remove_emoji(string):\n",
    "    ''' user defined function that remove the emoji from text'''\n",
    "    emoji_pattern = re.compile(\"[\"\n",
    "                           u\"\\U0001F600-\\U0001F64F\"  # emoticons\n",
    "                           u\"\\U0001F300-\\U0001F5FF\"  # symbols & pictographs\n",
    "                           u\"\\U0001F680-\\U0001F6FF\"  # transport & map symbols\n",
    "                           u\"\\U0001F1E0-\\U0001F1FF\"  # flags (iOS)\n",
    "                           u\"\\U00002702-\\U000027B0\"\n",
    "                           u\"\\U000024C2-\\U0001F251\"\n",
    "                           \"]+\", flags=re.UNICODE)\n",
    "    return emoji_pattern.sub(r'', string)\n"
   ]
  },
  {
   "cell_type": "code",
   "execution_count": 278,
   "metadata": {},
   "outputs": [
    {
     "data": {
      "text/plain": [
       "'something amazing '"
      ]
     },
     "execution_count": 278,
     "metadata": {},
     "output_type": "execute_result"
    }
   ],
   "source": [
    "# first, let's test this on : something amazing 😱️\n",
    "\n",
    "remove_emoji(\"something amazing 😱️\")\n",
    "# remove_emoji(\"freedom sale brought light working 👍\")"
   ]
  },
  {
   "cell_type": "code",
   "execution_count": 279,
   "metadata": {},
   "outputs": [
    {
     "data": {
      "text/html": [
       "<div>\n",
       "<style scoped>\n",
       "    .dataframe tbody tr th:only-of-type {\n",
       "        vertical-align: middle;\n",
       "    }\n",
       "\n",
       "    .dataframe tbody tr th {\n",
       "        vertical-align: top;\n",
       "    }\n",
       "\n",
       "    .dataframe thead th {\n",
       "        text-align: right;\n",
       "    }\n",
       "</style>\n",
       "<table border=\"1\" class=\"dataframe\">\n",
       "  <thead>\n",
       "    <tr style=\"text-align: right;\">\n",
       "      <th></th>\n",
       "      <th>Review</th>\n",
       "      <th>text_wo_stopfreqrare</th>\n",
       "      <th>text_stemmed</th>\n",
       "      <th>text_lemmatized</th>\n",
       "      <th>text_lemmatized_wo_emoji</th>\n",
       "    </tr>\n",
       "  </thead>\n",
       "  <tbody>\n",
       "    <tr>\n",
       "      <th>0</th>\n",
       "      <td>i liked this gen very much. the only disadvant...</td>\n",
       "      <td>liked gen much disadvantage found way dumb las...</td>\n",
       "      <td>like gen much disadvantag found way dumb last ...</td>\n",
       "      <td>liked gen much disadvantage found way dumb las...</td>\n",
       "      <td>liked gen much disadvantage found way dumb las...</td>\n",
       "    </tr>\n",
       "    <tr>\n",
       "      <th>1</th>\n",
       "      <td>this latest version of echo dot may be a bette...</td>\n",
       "      <td>latest version may better version previous one...</td>\n",
       "      <td>latest version may better version previou one ...</td>\n",
       "      <td>latest version may better version previous one...</td>\n",
       "      <td>latest version may better version previous one...</td>\n",
       "    </tr>\n",
       "    <tr>\n",
       "      <th>2</th>\n",
       "      <td>it could  not be possible to reset it at my ne...</td>\n",
       "      <td>could possible reset new locatioon customer he...</td>\n",
       "      <td>could possibl reset new locatioon custom help ...</td>\n",
       "      <td>could possible reset new locatioon customer he...</td>\n",
       "      <td>could possible reset new locatioon customer he...</td>\n",
       "    </tr>\n",
       "    <tr>\n",
       "      <th>3</th>\n",
       "      <td>nothing great then previous ones .</td>\n",
       "      <td>nothing great previous ones</td>\n",
       "      <td>noth great previou one</td>\n",
       "      <td>nothing great previous one</td>\n",
       "      <td>nothing great previous one</td>\n",
       "    </tr>\n",
       "    <tr>\n",
       "      <th>4</th>\n",
       "      <td>awesomebut some time can not listenover all good</td>\n",
       "      <td>awesomebut time listenover</td>\n",
       "      <td>awesomebut time listenov</td>\n",
       "      <td>awesomebut time listenover</td>\n",
       "      <td>awesomebut time listenover</td>\n",
       "    </tr>\n",
       "    <tr>\n",
       "      <th>5</th>\n",
       "      <td>freedom sale i brought this with light. workin...</td>\n",
       "      <td>freedom sale brought light working 👍</td>\n",
       "      <td>freedom sale brought light work 👍</td>\n",
       "      <td>freedom sale brought light working 👍</td>\n",
       "      <td>freedom sale brought light working</td>\n",
       "    </tr>\n",
       "  </tbody>\n",
       "</table>\n",
       "</div>"
      ],
      "text/plain": [
       "                                              Review  \\\n",
       "0  i liked this gen very much. the only disadvant...   \n",
       "1  this latest version of echo dot may be a bette...   \n",
       "2  it could  not be possible to reset it at my ne...   \n",
       "3                 nothing great then previous ones .   \n",
       "4   awesomebut some time can not listenover all good   \n",
       "5  freedom sale i brought this with light. workin...   \n",
       "\n",
       "                                text_wo_stopfreqrare  \\\n",
       "0  liked gen much disadvantage found way dumb las...   \n",
       "1  latest version may better version previous one...   \n",
       "2  could possible reset new locatioon customer he...   \n",
       "3                        nothing great previous ones   \n",
       "4                         awesomebut time listenover   \n",
       "5               freedom sale brought light working 👍   \n",
       "\n",
       "                                        text_stemmed  \\\n",
       "0  like gen much disadvantag found way dumb last ...   \n",
       "1  latest version may better version previou one ...   \n",
       "2  could possibl reset new locatioon custom help ...   \n",
       "3                             noth great previou one   \n",
       "4                           awesomebut time listenov   \n",
       "5                  freedom sale brought light work 👍   \n",
       "\n",
       "                                     text_lemmatized  \\\n",
       "0  liked gen much disadvantage found way dumb las...   \n",
       "1  latest version may better version previous one...   \n",
       "2  could possible reset new locatioon customer he...   \n",
       "3                         nothing great previous one   \n",
       "4                         awesomebut time listenover   \n",
       "5               freedom sale brought light working 👍   \n",
       "\n",
       "                            text_lemmatized_wo_emoji  \n",
       "0  liked gen much disadvantage found way dumb las...  \n",
       "1  latest version may better version previous one...  \n",
       "2  could possible reset new locatioon customer he...  \n",
       "3                         nothing great previous one  \n",
       "4                         awesomebut time listenover  \n",
       "5                freedom sale brought light working   "
      ]
     },
     "execution_count": 279,
     "metadata": {},
     "output_type": "execute_result"
    }
   ],
   "source": [
    "df[\"text_lemmatized_wo_emoji\"] = df[\"text_lemmatized\"].apply(remove_emoji)\n",
    "df.head(6)"
   ]
  },
  {
   "cell_type": "markdown",
   "metadata": {},
   "source": [
    "Lets remove some unnecessary columns again. \n"
   ]
  },
  {
   "cell_type": "code",
   "execution_count": 280,
   "metadata": {},
   "outputs": [
    {
     "data": {
      "text/html": [
       "<div>\n",
       "<style scoped>\n",
       "    .dataframe tbody tr th:only-of-type {\n",
       "        vertical-align: middle;\n",
       "    }\n",
       "\n",
       "    .dataframe tbody tr th {\n",
       "        vertical-align: top;\n",
       "    }\n",
       "\n",
       "    .dataframe thead th {\n",
       "        text-align: right;\n",
       "    }\n",
       "</style>\n",
       "<table border=\"1\" class=\"dataframe\">\n",
       "  <thead>\n",
       "    <tr style=\"text-align: right;\">\n",
       "      <th></th>\n",
       "      <th>Review</th>\n",
       "      <th>text_lemmatized_wo_emoji</th>\n",
       "    </tr>\n",
       "  </thead>\n",
       "  <tbody>\n",
       "    <tr>\n",
       "      <th>0</th>\n",
       "      <td>i liked this gen very much. the only disadvant...</td>\n",
       "      <td>liked gen much disadvantage found way dumb las...</td>\n",
       "    </tr>\n",
       "    <tr>\n",
       "      <th>1</th>\n",
       "      <td>this latest version of echo dot may be a bette...</td>\n",
       "      <td>latest version may better version previous one...</td>\n",
       "    </tr>\n",
       "    <tr>\n",
       "      <th>2</th>\n",
       "      <td>it could  not be possible to reset it at my ne...</td>\n",
       "      <td>could possible reset new locatioon customer he...</td>\n",
       "    </tr>\n",
       "  </tbody>\n",
       "</table>\n",
       "</div>"
      ],
      "text/plain": [
       "                                              Review  \\\n",
       "0  i liked this gen very much. the only disadvant...   \n",
       "1  this latest version of echo dot may be a bette...   \n",
       "2  it could  not be possible to reset it at my ne...   \n",
       "\n",
       "                            text_lemmatized_wo_emoji  \n",
       "0  liked gen much disadvantage found way dumb las...  \n",
       "1  latest version may better version previous one...  \n",
       "2  could possible reset new locatioon customer he...  "
      ]
     },
     "execution_count": 280,
     "metadata": {},
     "output_type": "execute_result"
    }
   ],
   "source": [
    "columns = ['text_wo_stopfreqrare','text_stemmed','text_lemmatized']\n",
    "df.drop(columns, axis=1, inplace=True)\n",
    "df.head(3)"
   ]
  },
  {
   "cell_type": "markdown",
   "metadata": {},
   "source": [
    "### Removal of URLs\n",
    " We have to remove any URLs present in the data. For example, if we are doing a twitter analysis, then there is a good chance that the tweet will have some URL in it. Probably we might need to remove them for our further analysis.\n",
    "\n"
   ]
  },
  {
   "cell_type": "code",
   "execution_count": 281,
   "metadata": {},
   "outputs": [],
   "source": [
    "def remove_urls(text):\n",
    "    '''\n",
    "    user defined function to remove urls from the text.\n",
    "    '''\n",
    "    url_pattern = re.compile(r'https?://\\S+|www\\.\\S+')\n",
    "    return url_pattern.sub(r'', text)"
   ]
  },
  {
   "cell_type": "code",
   "execution_count": 282,
   "metadata": {},
   "outputs": [
    {
     "data": {
      "text/plain": [
       "'Please visit my personal website through this link '"
      ]
     },
     "execution_count": 282,
     "metadata": {},
     "output_type": "execute_result"
    }
   ],
   "source": [
    "# Lets test on this: \n",
    "text = \"Please visit my personal website through this link https://www.suzansharma.com.np\"\n",
    "remove_urls(text)\n"
   ]
  },
  {
   "cell_type": "markdown",
   "metadata": {},
   "source": [
    "#### Applying this removeu_rls function if there exist any urls in our data."
   ]
  },
  {
   "cell_type": "code",
   "execution_count": 283,
   "metadata": {},
   "outputs": [
    {
     "data": {
      "text/html": [
       "<div>\n",
       "<style scoped>\n",
       "    .dataframe tbody tr th:only-of-type {\n",
       "        vertical-align: middle;\n",
       "    }\n",
       "\n",
       "    .dataframe tbody tr th {\n",
       "        vertical-align: top;\n",
       "    }\n",
       "\n",
       "    .dataframe thead th {\n",
       "        text-align: right;\n",
       "    }\n",
       "</style>\n",
       "<table border=\"1\" class=\"dataframe\">\n",
       "  <thead>\n",
       "    <tr style=\"text-align: right;\">\n",
       "      <th></th>\n",
       "      <th>Review</th>\n",
       "      <th>text_lemmatized_wo_emoji</th>\n",
       "      <th>text_wo_urls</th>\n",
       "    </tr>\n",
       "  </thead>\n",
       "  <tbody>\n",
       "    <tr>\n",
       "      <th>0</th>\n",
       "      <td>i liked this gen very much. the only disadvant...</td>\n",
       "      <td>liked gen much disadvantage found way dumb las...</td>\n",
       "      <td>liked gen much disadvantage found way dumb las...</td>\n",
       "    </tr>\n",
       "    <tr>\n",
       "      <th>1</th>\n",
       "      <td>this latest version of echo dot may be a bette...</td>\n",
       "      <td>latest version may better version previous one...</td>\n",
       "      <td>latest version may better version previous one...</td>\n",
       "    </tr>\n",
       "    <tr>\n",
       "      <th>2</th>\n",
       "      <td>it could  not be possible to reset it at my ne...</td>\n",
       "      <td>could possible reset new locatioon customer he...</td>\n",
       "      <td>could possible reset new locatioon customer he...</td>\n",
       "    </tr>\n",
       "  </tbody>\n",
       "</table>\n",
       "</div>"
      ],
      "text/plain": [
       "                                              Review  \\\n",
       "0  i liked this gen very much. the only disadvant...   \n",
       "1  this latest version of echo dot may be a bette...   \n",
       "2  it could  not be possible to reset it at my ne...   \n",
       "\n",
       "                            text_lemmatized_wo_emoji  \\\n",
       "0  liked gen much disadvantage found way dumb las...   \n",
       "1  latest version may better version previous one...   \n",
       "2  could possible reset new locatioon customer he...   \n",
       "\n",
       "                                        text_wo_urls  \n",
       "0  liked gen much disadvantage found way dumb las...  \n",
       "1  latest version may better version previous one...  \n",
       "2  could possible reset new locatioon customer he...  "
      ]
     },
     "execution_count": 283,
     "metadata": {},
     "output_type": "execute_result"
    }
   ],
   "source": [
    "df[\"text_wo_urls\"] = df[\"text_lemmatized_wo_emoji\"].apply(lambda text: remove_urls(text))\n",
    "df.head(3)"
   ]
  },
  {
   "cell_type": "markdown",
   "metadata": {},
   "source": [
    "### Removal of HTML Tags\n",
    "If we scrap the data from different websites. We might end up having html strings as part of our text. So it is most important part for better text analysis and NLP relaged task.\n",
    "\n"
   ]
  },
  {
   "cell_type": "code",
   "execution_count": 284,
   "metadata": {},
   "outputs": [
    {
     "name": "stdout",
     "output_type": "stream",
     "text": [
      "\n",
      " Sujan Sharma\n",
      " ML Engineer\n",
      " Visit ME\n",
      "\n"
     ]
    }
   ],
   "source": [
    "def remove_html(text):\n",
    "    ''' user defined function to remove html from text'''\n",
    "    html_pattern = re.compile('<.*?>')\n",
    "    return html_pattern.sub(r'', text)\n",
    "\n",
    "text = \"\"\"<div>\n",
    "<h1> Sujan Sharma</h1>\n",
    "<p> ML Engineer</p>\n",
    "<a href=\"https://www.suzansharma.com.np\"> Visit ME</a>\n",
    "</div>\"\"\"\n",
    "\n",
    "print(remove_html(text))"
   ]
  },
  {
   "cell_type": "code",
   "execution_count": 285,
   "metadata": {},
   "outputs": [
    {
     "name": "stdout",
     "output_type": "stream",
     "text": [
      "\n",
      " Sujan Sharma\n",
      " ML Engineer\n",
      " Visit ME\n",
      "\n"
     ]
    }
   ],
   "source": [
    "# using BeautifulSoup , removing the html tag\n",
    "from bs4 import BeautifulSoup\n",
    "\n",
    "def remove_html(text):\n",
    "    ''' \n",
    "    user defined function \n",
    "    that use BeautifulSoup \n",
    "    to remove html from text\n",
    "    '''\n",
    "    return BeautifulSoup(text, \"lxml\").text\n",
    "\n",
    "text = \"\"\"<div>\n",
    "<h1> Sujan Sharma</h1>\n",
    "<p> ML Engineer</p>\n",
    "<a href=\"https://www.suzansharma.com.np\"> Visit ME</a>\n",
    "</div>\"\"\"\n",
    "\n",
    "print(remove_html(text))"
   ]
  },
  {
   "cell_type": "markdown",
   "metadata": {},
   "source": [
    "#### Applying this remove_html function if there exist any urls in our data."
   ]
  },
  {
   "cell_type": "code",
   "execution_count": 286,
   "metadata": {},
   "outputs": [
    {
     "data": {
      "text/html": [
       "<div>\n",
       "<style scoped>\n",
       "    .dataframe tbody tr th:only-of-type {\n",
       "        vertical-align: middle;\n",
       "    }\n",
       "\n",
       "    .dataframe tbody tr th {\n",
       "        vertical-align: top;\n",
       "    }\n",
       "\n",
       "    .dataframe thead th {\n",
       "        text-align: right;\n",
       "    }\n",
       "</style>\n",
       "<table border=\"1\" class=\"dataframe\">\n",
       "  <thead>\n",
       "    <tr style=\"text-align: right;\">\n",
       "      <th></th>\n",
       "      <th>Review</th>\n",
       "      <th>text_lemmatized_wo_emoji</th>\n",
       "      <th>text_wo_urls</th>\n",
       "      <th>text_wo_htmls</th>\n",
       "    </tr>\n",
       "  </thead>\n",
       "  <tbody>\n",
       "    <tr>\n",
       "      <th>0</th>\n",
       "      <td>i liked this gen very much. the only disadvant...</td>\n",
       "      <td>liked gen much disadvantage found way dumb las...</td>\n",
       "      <td>liked gen much disadvantage found way dumb las...</td>\n",
       "      <td>liked gen much disadvantage found way dumb las...</td>\n",
       "    </tr>\n",
       "    <tr>\n",
       "      <th>1</th>\n",
       "      <td>this latest version of echo dot may be a bette...</td>\n",
       "      <td>latest version may better version previous one...</td>\n",
       "      <td>latest version may better version previous one...</td>\n",
       "      <td>latest version may better version previous one...</td>\n",
       "    </tr>\n",
       "    <tr>\n",
       "      <th>2</th>\n",
       "      <td>it could  not be possible to reset it at my ne...</td>\n",
       "      <td>could possible reset new locatioon customer he...</td>\n",
       "      <td>could possible reset new locatioon customer he...</td>\n",
       "      <td>could possible reset new locatioon customer he...</td>\n",
       "    </tr>\n",
       "  </tbody>\n",
       "</table>\n",
       "</div>"
      ],
      "text/plain": [
       "                                              Review  \\\n",
       "0  i liked this gen very much. the only disadvant...   \n",
       "1  this latest version of echo dot may be a bette...   \n",
       "2  it could  not be possible to reset it at my ne...   \n",
       "\n",
       "                            text_lemmatized_wo_emoji  \\\n",
       "0  liked gen much disadvantage found way dumb las...   \n",
       "1  latest version may better version previous one...   \n",
       "2  could possible reset new locatioon customer he...   \n",
       "\n",
       "                                        text_wo_urls  \\\n",
       "0  liked gen much disadvantage found way dumb las...   \n",
       "1  latest version may better version previous one...   \n",
       "2  could possible reset new locatioon customer he...   \n",
       "\n",
       "                                       text_wo_htmls  \n",
       "0  liked gen much disadvantage found way dumb las...  \n",
       "1  latest version may better version previous one...  \n",
       "2  could possible reset new locatioon customer he...  "
      ]
     },
     "execution_count": 286,
     "metadata": {},
     "output_type": "execute_result"
    }
   ],
   "source": [
    "df[\"text_wo_htmls\"] = df[\"text_wo_urls\"].apply(lambda text: remove_html(text))\n",
    "df.head(3)"
   ]
  },
  {
   "cell_type": "markdown",
   "metadata": {},
   "source": [
    "### Spelling Correction\n",
    "\n",
    "Typos are common in text data and we might want to correct those spelling mistakes before we do our analysis.\n",
    "\n",
    "**IF**  \n",
    "We have use stemming here then the spelling of most of the word could have been wrong. And this step can correct those text."
   ]
  },
  {
   "cell_type": "code",
   "execution_count": 291,
   "metadata": {},
   "outputs": [],
   "source": [
    "from textblob import TextBlob\n",
    "\n",
    "def correct_spellings(text):\n",
    "    '''\n",
    "    user defined function to \n",
    "    correct the spelling of \n",
    "    the text with textblob package.\n",
    "    '''\n",
    "    textBLB = TextBlob(text)\n",
    "    return textBLB.correct().string\n",
    "        "
   ]
  },
  {
   "cell_type": "code",
   "execution_count": 296,
   "metadata": {},
   "outputs": [
    {
     "data": {
      "text/plain": [
       "'Everything is going good in this training.'"
      ]
     },
     "execution_count": 296,
     "metadata": {},
     "output_type": "execute_result"
    }
   ],
   "source": [
    "# first lets check on this:\n",
    "text = \"Evrything is goig good in this training.\"\n",
    "correct_spellings(text)"
   ]
  },
  {
   "cell_type": "code",
   "execution_count": 297,
   "metadata": {},
   "outputs": [],
   "source": [
    "df[\"Final_Review\"] = df[\"text_wo_htmls\"].apply(lambda text: correct_spellings(text))\n"
   ]
  },
  {
   "cell_type": "code",
   "execution_count": 298,
   "metadata": {},
   "outputs": [
    {
     "data": {
      "text/html": [
       "<div>\n",
       "<style scoped>\n",
       "    .dataframe tbody tr th:only-of-type {\n",
       "        vertical-align: middle;\n",
       "    }\n",
       "\n",
       "    .dataframe tbody tr th {\n",
       "        vertical-align: top;\n",
       "    }\n",
       "\n",
       "    .dataframe thead th {\n",
       "        text-align: right;\n",
       "    }\n",
       "</style>\n",
       "<table border=\"1\" class=\"dataframe\">\n",
       "  <thead>\n",
       "    <tr style=\"text-align: right;\">\n",
       "      <th></th>\n",
       "      <th>Review</th>\n",
       "      <th>Final_Review</th>\n",
       "    </tr>\n",
       "  </thead>\n",
       "  <tbody>\n",
       "    <tr>\n",
       "      <th>0</th>\n",
       "      <td>i liked this gen very much. the only disadvant...</td>\n",
       "      <td>liked gen much disadvantage found way dumb las...</td>\n",
       "    </tr>\n",
       "    <tr>\n",
       "      <th>1</th>\n",
       "      <td>this latest version of echo dot may be a bette...</td>\n",
       "      <td>latest version may better version previous one...</td>\n",
       "    </tr>\n",
       "    <tr>\n",
       "      <th>2</th>\n",
       "      <td>it could  not be possible to reset it at my ne...</td>\n",
       "      <td>could possible rest new location customer help...</td>\n",
       "    </tr>\n",
       "    <tr>\n",
       "      <th>3</th>\n",
       "      <td>nothing great then previous ones .</td>\n",
       "      <td>nothing great previous one</td>\n",
       "    </tr>\n",
       "    <tr>\n",
       "      <th>4</th>\n",
       "      <td>awesomebut some time can not listenover all good</td>\n",
       "      <td>awesomebut time listener</td>\n",
       "    </tr>\n",
       "    <tr>\n",
       "      <th>5</th>\n",
       "      <td>freedom sale i brought this with light. workin...</td>\n",
       "      <td>freedom sale brought light working</td>\n",
       "    </tr>\n",
       "    <tr>\n",
       "      <th>6</th>\n",
       "      <td>good product. stayed upto the expectations. co...</td>\n",
       "      <td>stayed unto expectation could least 1000 lower...</td>\n",
       "    </tr>\n",
       "    <tr>\n",
       "      <th>7</th>\n",
       "      <td>good</td>\n",
       "      <td></td>\n",
       "    </tr>\n",
       "    <tr>\n",
       "      <th>8</th>\n",
       "      <td>very good connectivity with iphone and android...</td>\n",
       "      <td>conductivity phone andros build much</td>\n",
       "    </tr>\n",
       "    <tr>\n",
       "      <th>9</th>\n",
       "      <td>the sound is so amazing that you are lost in y...</td>\n",
       "      <td>amazing lost ear feel skin whole body music pl...</td>\n",
       "    </tr>\n",
       "  </tbody>\n",
       "</table>\n",
       "</div>"
      ],
      "text/plain": [
       "                                              Review  \\\n",
       "0  i liked this gen very much. the only disadvant...   \n",
       "1  this latest version of echo dot may be a bette...   \n",
       "2  it could  not be possible to reset it at my ne...   \n",
       "3                 nothing great then previous ones .   \n",
       "4   awesomebut some time can not listenover all good   \n",
       "5  freedom sale i brought this with light. workin...   \n",
       "6  good product. stayed upto the expectations. co...   \n",
       "7                                               good   \n",
       "8  very good connectivity with iphone and android...   \n",
       "9  the sound is so amazing that you are lost in y...   \n",
       "\n",
       "                                        Final_Review  \n",
       "0  liked gen much disadvantage found way dumb las...  \n",
       "1  latest version may better version previous one...  \n",
       "2  could possible rest new location customer help...  \n",
       "3                         nothing great previous one  \n",
       "4                           awesomebut time listener  \n",
       "5                freedom sale brought light working   \n",
       "6  stayed unto expectation could least 1000 lower...  \n",
       "7                                                     \n",
       "8               conductivity phone andros build much  \n",
       "9  amazing lost ear feel skin whole body music pl...  "
      ]
     },
     "execution_count": 298,
     "metadata": {},
     "output_type": "execute_result"
    }
   ],
   "source": [
    "# final remove on unnecessary columns in the data\n",
    "columns = ['text_lemmatized_wo_emoji','text_wo_urls','text_wo_htmls']\n",
    "df.drop(columns, axis=1, inplace=True)\n",
    "df.head(10)"
   ]
  },
  {
   "cell_type": "markdown",
   "metadata": {},
   "source": [
    "### So above data with Final_review columns is the output of all the processing on text in Review columns. Which later on go futher processing like Vectorization."
   ]
  }
 ],
 "metadata": {
  "kernelspec": {
   "display_name": "Python 3",
   "language": "python",
   "name": "python3"
  },
  "language_info": {
   "codemirror_mode": {
    "name": "ipython",
    "version": 3
   },
   "file_extension": ".py",
   "mimetype": "text/x-python",
   "name": "python",
   "nbconvert_exporter": "python",
   "pygments_lexer": "ipython3",
   "version": "3.8.10"
  },
  "orig_nbformat": 4
 },
 "nbformat": 4,
 "nbformat_minor": 2
}
