{
 "cells": [
  {
   "cell_type": "markdown",
   "metadata": {},
   "source": [
    "### One hot encoding:"
   ]
  },
  {
   "cell_type": "code",
   "execution_count": 10,
   "metadata": {},
   "outputs": [
    {
     "name": "stdout",
     "output_type": "stream",
     "text": [
      "[[1, 0, 0, 0], [0, 1, 0, 0], [0, 0, 1, 0], [0, 0, 0, 1]]\n"
     ]
    }
   ],
   "source": [
    "# define vocabulary\n",
    "vocabulary = [ \"I\", \"work\" ,\"at\", \"Fusemachines\"]\n",
    "\n",
    "encoded_vocab = []\n",
    "for each in vocabulary:\n",
    "    one_hot_encoded = [1 if word == each else 0 for word in vocabulary]\n",
    "    encoded_vocab.append(one_hot_encoded)\n",
    "\n",
    "print(encoded_vocab)\n"
   ]
  },
  {
   "cell_type": "markdown",
   "metadata": {},
   "source": [
    "### Index Based Encoding:\n"
   ]
  },
  {
   "cell_type": "code",
   "execution_count": 11,
   "metadata": {},
   "outputs": [
    {
     "name": "stdout",
     "output_type": "stream",
     "text": [
      "['I', 'like', 'working', 'at', 'Fusemachines', 'has', 'a', 'skilled', 'team', 'Good', 'career', 'opportunities', 'are', 'here']\n",
      "{'I': 1, 'like': 2, 'working': 3, 'at': 4, 'Fusemachines': 5, 'has': 6, 'a': 7, 'skilled': 8, 'team': 9, 'Good': 10, 'career': 11, 'opportunities': 12, 'are': 13, 'here': 14}\n",
      "[[1, 2, 3, 4, 5], [5, 6, 7, 8, 9], [10, 11, 12, 13, 14]]\n",
      "[1, 2, 3, 4, 5]\n",
      "[5, 6, 7, 8, 9]\n",
      "[10, 11, 12, 13, 14]\n"
     ]
    }
   ],
   "source": [
    "# define the corpus\n",
    "corpus = [\n",
    "  'I like working at Fusemachines',\n",
    "  'Fusemachines has a skilled team',\n",
    "  'Good career opportunities are here'\n",
    "]\n",
    "\n",
    "vocabulary=[]\n",
    "# Tokenize the sentences into words\n",
    "for sentence in corpus:\n",
    "    words = sentence.split()\n",
    "    for word in words:\n",
    "        if word not in vocabulary:\n",
    "            vocabulary.append(word)\n",
    "\n",
    "\n",
    "# Create a vocabulary with unique words\n",
    "print(vocabulary)\n",
    "\n",
    "# Build a word-to-index mapping\n",
    "word_to_index = {word: idx+1 for idx, word in enumerate(vocabulary)}\n",
    "print(word_to_index)\n",
    "\n",
    "\n",
    "# # Encode the sentences using word indices\n",
    "encoded_corpus = []\n",
    "for sentence in corpus:\n",
    "    encoded_sentence = [word_to_index[word] for word in sentence.split()]\n",
    "    encoded_corpus.append(encoded_sentence)\n",
    "\n",
    "print(encoded_corpus)\n",
    "\n",
    "# Print the encoded corpus\n",
    "for encoded_sentence in encoded_corpus:\n",
    "    print(encoded_sentence)\n",
    "\n"
   ]
  },
  {
   "cell_type": "markdown",
   "metadata": {},
   "source": [
    "### Bag of words (BOW)"
   ]
  },
  {
   "cell_type": "code",
   "execution_count": 13,
   "metadata": {},
   "outputs": [
    {
     "name": "stdout",
     "output_type": "stream",
     "text": [
      "Vocabulary: ['like', 'working', 'Fusemachines', 'skilled', 'team', 'Good', 'career', 'opportunities']\n",
      "Sentence 1 BoW: [1, 1, 1, 0, 0, 0, 0, 0]\n",
      "Sentence 2 BoW: [0, 0, 1, 1, 1, 0, 0, 0]\n",
      "Sentence 3 BoW: [0, 0, 0, 0, 0, 1, 1, 1]\n"
     ]
    }
   ],
   "source": [
    "from nltk.corpus import stopwords\n",
    "\n",
    "\n",
    "\n",
    "# Initialize an empty vocabulary list\n",
    "vocabulary = []\n",
    "\n",
    "# Tokenize the sentences into words and build the vocabulary\n",
    "for sentence in corpus:\n",
    "    words = sentence.split()\n",
    "    # removing stop words before creating bow\n",
    "    stop_words = set(stopwords.words('english'))\n",
    "    filtered_words = [word for word in words if word.lower() not in stop_words]\n",
    "\n",
    "    for word in filtered_words:\n",
    "        if word not in vocabulary:\n",
    "            vocabulary.append(word)\n",
    "\n",
    "# Create a dictionary to map words to their indices in the vocabulary\n",
    "word_to_index = {word: idx for idx, word in enumerate(vocabulary)}\n",
    "\n",
    "# Function to compute Bag of Words (BoW) representation of a sentence\n",
    "def bow(sentence):\n",
    "    '''\n",
    "    Function that make the bag of words of a given sentence.\n",
    "    '''\n",
    "\n",
    "    # Initialize a vector of zeros with the same length as the vocabulary\n",
    "    bow_vector = [0] * len(vocabulary)\n",
    "    # Tokenize the sentence into words\n",
    "    words = sentence.split()\n",
    "    # removing stop words before creating bow\n",
    "    stop_words = set(stopwords.words('english'))\n",
    "    filtered_words = [word for word in words if word.lower() not in stop_words]\n",
    "\n",
    "    # Count word occurrences and update the BoW vector\n",
    "    for word in filtered_words:\n",
    "        if word in word_to_index:\n",
    "            bow_vector[word_to_index[word]] += 1\n",
    "    return bow_vector\n",
    "\n",
    "# Compute the BoW representation for the entire corpus\n",
    "corpus_bow = [bow(sentence) for sentence in corpus]\n",
    "\n",
    "# Print the vocabulary and BoW representation for each sentence\n",
    "print(\"Vocabulary:\", vocabulary)\n",
    "for idx, sentence in enumerate(corpus):\n",
    "    print(f\"Sentence {idx + 1} BoW:\", corpus_bow[idx])"
   ]
  },
  {
   "cell_type": "markdown",
   "metadata": {},
   "source": [
    "# TF- IDF"
   ]
  },
  {
   "cell_type": "code",
   "execution_count": 6,
   "metadata": {},
   "outputs": [
    {
     "name": "stdout",
     "output_type": "stream",
     "text": [
      "  (0, 0)\t0.4494364165239821\n",
      "  (0, 4)\t0.6316672017376245\n",
      "  (0, 1)\t0.6316672017376245\n",
      "  (1, 2)\t0.6316672017376245\n",
      "  (1, 3)\t0.6316672017376245\n",
      "  (1, 0)\t0.4494364165239821\n",
      "Stopwords get removed automatically\n",
      "feature_names ['books' 'enjoy' 'knowledge' 'provide' 'reading']\n",
      "=======================================================\n"
     ]
    },
    {
     "data": {
      "text/html": [
       "<div>\n",
       "<style scoped>\n",
       "    .dataframe tbody tr th:only-of-type {\n",
       "        vertical-align: middle;\n",
       "    }\n",
       "\n",
       "    .dataframe tbody tr th {\n",
       "        vertical-align: top;\n",
       "    }\n",
       "\n",
       "    .dataframe thead th {\n",
       "        text-align: right;\n",
       "    }\n",
       "</style>\n",
       "<table border=\"1\" class=\"dataframe\">\n",
       "  <thead>\n",
       "    <tr style=\"text-align: right;\">\n",
       "      <th></th>\n",
       "      <th>books</th>\n",
       "      <th>enjoy</th>\n",
       "      <th>knowledge</th>\n",
       "      <th>provide</th>\n",
       "      <th>reading</th>\n",
       "    </tr>\n",
       "  </thead>\n",
       "  <tbody>\n",
       "    <tr>\n",
       "      <th>0</th>\n",
       "      <td>0.449436</td>\n",
       "      <td>0.631667</td>\n",
       "      <td>0.000000</td>\n",
       "      <td>0.000000</td>\n",
       "      <td>0.631667</td>\n",
       "    </tr>\n",
       "    <tr>\n",
       "      <th>1</th>\n",
       "      <td>0.449436</td>\n",
       "      <td>0.000000</td>\n",
       "      <td>0.631667</td>\n",
       "      <td>0.631667</td>\n",
       "      <td>0.000000</td>\n",
       "    </tr>\n",
       "  </tbody>\n",
       "</table>\n",
       "</div>"
      ],
      "text/plain": [
       "      books     enjoy  knowledge   provide   reading\n",
       "0  0.449436  0.631667   0.000000  0.000000  0.631667\n",
       "1  0.449436  0.000000   0.631667  0.631667  0.000000"
      ]
     },
     "execution_count": 6,
     "metadata": {},
     "output_type": "execute_result"
    }
   ],
   "source": [
    "from sklearn.feature_extraction.text import TfidfVectorizer\n",
    "\n",
    "# Example sentences\n",
    "sentences = [\n",
    "    \"I enjoy reading books.\",\n",
    "    \"Books provide knowledge.\"\n",
    "]\n",
    "\n",
    "# Initialize the TF-IDF vectorizer\n",
    "tfidf_vectorizer = TfidfVectorizer()\n",
    "\n",
    "# Fit and transform the sentences to compute TF-IDF values\n",
    "tfidf_matrix = tfidf_vectorizer.fit_transform(sentences)\n",
    "print(tfidf_matrix)\n",
    "# Get the feature names (words)\n",
    "feature_names = tfidf_vectorizer.get_feature_names_out()\n",
    "print(\"Stopwords get removed automatically\")\n",
    "print(\"feature_names\",feature_names)\n",
    "# Create a DataFrame to display the TF-IDF values\n",
    "print(\"=======================================================\")\n",
    "import pandas as pd\n",
    "tfidf_df = pd.DataFrame(data=tfidf_matrix.toarray(), columns=feature_names)\n",
    "\n",
    "# Print the TF-IDF DataFrame\n",
    "tfidf_df\n"
   ]
  },
  {
   "cell_type": "markdown",
   "metadata": {},
   "source": [
    "# Word2Vec"
   ]
  },
  {
   "cell_type": "code",
   "execution_count": 11,
   "metadata": {},
   "outputs": [
    {
     "name": "stderr",
     "output_type": "stream",
     "text": [
      "[nltk_data] Downloading package punkt to /home/sujan/nltk_data...\n",
      "[nltk_data]   Package punkt is already up-to-date!\n"
     ]
    },
    {
     "data": {
      "text/plain": [
       "True"
      ]
     },
     "execution_count": 11,
     "metadata": {},
     "output_type": "execute_result"
    }
   ],
   "source": [
    "import nltk\n",
    "nltk.download('punkt')"
   ]
  },
  {
   "cell_type": "code",
   "execution_count": 13,
   "metadata": {},
   "outputs": [
    {
     "name": "stdout",
     "output_type": "stream",
     "text": [
      "Vector representation of 'football':\n",
      "=======================================================\n",
      "=======================================================\n",
      "\n",
      "Words most similar to 'football':\n",
      "i: 0.1638\n",
      "soccer: 0.1460\n",
      "playing: 0.0505\n",
      "=======================================================\n",
      "=======================================================\n",
      "\n",
      "Similarity between 'football' and 'soccer': 0.1460\n"
     ]
    }
   ],
   "source": [
    "from gensim.models import Word2Vec\n",
    "from nltk.tokenize import word_tokenize\n",
    "  # Download the NLTK tokenizer data\n",
    "\n",
    "# Sample text corpus\n",
    "corpus = [\n",
    "    \"I like to play football\",\n",
    "    \"We watch soccer matches\",\n",
    "    \"Playing keeps us healthy\",\n",
    "    \"We had a great match\"\n",
    "]\n",
    "\n",
    "# Tokenize the sentences into words\n",
    "tokenized_corpus = [word_tokenize(sentence.lower()) for sentence in corpus]\n",
    "\n",
    "# Train a Word2Vec model\n",
    "model = Word2Vec(sentences=tokenized_corpus, vector_size=100, window=5, min_count=1, sg=1)\n",
    "\n",
    "# Save the model for later use\n",
    "model.save(\"word2vec.model\")\n",
    "\n",
    "# Load the model\n",
    "model = Word2Vec.load(\"word2vec.model\")\n",
    "\n",
    "# Find the vector representation of a word\n",
    "word_vector = model.wv['football']\n",
    "print(\"Vector representation of 'football':\")\n",
    "# print(word_vector)\n",
    "\n",
    "# Find the most similar words to a given word\n",
    "similar_words = model.wv.most_similar('football', topn=3)\n",
    "print(\"=======================================================\")\n",
    "print(\"=======================================================\")\n",
    "print(\"\\nWords most similar to 'football':\")\n",
    "for word, score in similar_words:\n",
    "    print(f\"{word}: {score:.4f}\")\n",
    "\n",
    "# Calculate the similarity between two words\n",
    "print(\"=======================================================\")\n",
    "print(\"=======================================================\")\n",
    "similarity_score = model.wv.similarity('football', 'soccer')\n",
    "print(f\"\\nSimilarity between 'football' and 'soccer': {similarity_score:.4f}\")\n"
   ]
  },
  {
   "cell_type": "code",
   "execution_count": null,
   "metadata": {},
   "outputs": [],
   "source": []
  }
 ],
 "metadata": {
  "kernelspec": {
   "display_name": "Python 3",
   "language": "python",
   "name": "python3"
  },
  "language_info": {
   "codemirror_mode": {
    "name": "ipython",
    "version": 3
   },
   "file_extension": ".py",
   "mimetype": "text/x-python",
   "name": "python",
   "nbconvert_exporter": "python",
   "pygments_lexer": "ipython3",
   "version": "3.8.10"
  },
  "orig_nbformat": 4
 },
 "nbformat": 4,
 "nbformat_minor": 2
}
