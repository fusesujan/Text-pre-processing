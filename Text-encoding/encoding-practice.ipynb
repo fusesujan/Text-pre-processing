{
 "cells": [
  {
   "cell_type": "markdown",
   "metadata": {},
   "source": [
    "### One hot encoding:"
   ]
  },
  {
   "cell_type": "code",
   "execution_count": 10,
   "metadata": {},
   "outputs": [
    {
     "name": "stdout",
     "output_type": "stream",
     "text": [
      "[[1, 0, 0, 0], [0, 1, 0, 0], [0, 0, 1, 0], [0, 0, 0, 1]]\n"
     ]
    }
   ],
   "source": [
    "# define vocabulary\n",
    "vocabulary = [ \"I\", \"work\" ,\"at\", \"Fusemachines\"]\n",
    "\n",
    "encoded_vocab = []\n",
    "for each in vocabulary:\n",
    "    one_hot_encoded = [1 if word == each else 0 for word in vocabulary]\n",
    "    encoded_vocab.append(one_hot_encoded)\n",
    "\n",
    "print(encoded_vocab)\n"
   ]
  },
  {
   "cell_type": "markdown",
   "metadata": {},
   "source": [
    "### Index Based Encoding:\n"
   ]
  },
  {
   "cell_type": "code",
   "execution_count": 11,
   "metadata": {},
   "outputs": [
    {
     "name": "stdout",
     "output_type": "stream",
     "text": [
      "['I', 'like', 'working', 'at', 'Fusemachines', 'has', 'a', 'skilled', 'team', 'Good', 'career', 'opportunities', 'are', 'here']\n",
      "{'I': 1, 'like': 2, 'working': 3, 'at': 4, 'Fusemachines': 5, 'has': 6, 'a': 7, 'skilled': 8, 'team': 9, 'Good': 10, 'career': 11, 'opportunities': 12, 'are': 13, 'here': 14}\n",
      "[[1, 2, 3, 4, 5], [5, 6, 7, 8, 9], [10, 11, 12, 13, 14]]\n",
      "[1, 2, 3, 4, 5]\n",
      "[5, 6, 7, 8, 9]\n",
      "[10, 11, 12, 13, 14]\n"
     ]
    }
   ],
   "source": [
    "# define the corpus\n",
    "corpus = [\n",
    "  'I like working at Fusemachines',\n",
    "  'Fusemachines has a skilled team',\n",
    "  'Good career opportunities are here'\n",
    "]\n",
    "\n",
    "vocabulary=[]\n",
    "# Tokenize the sentences into words\n",
    "for sentence in corpus:\n",
    "    words = sentence.split()\n",
    "    for word in words:\n",
    "        if word not in vocabulary:\n",
    "            vocabulary.append(word)\n",
    "\n",
    "\n",
    "# Create a vocabulary with unique words\n",
    "print(vocabulary)\n",
    "\n",
    "# Build a word-to-index mapping\n",
    "word_to_index = {word: idx+1 for idx, word in enumerate(vocabulary)}\n",
    "print(word_to_index)\n",
    "\n",
    "\n",
    "# # Encode the sentences using word indices\n",
    "encoded_corpus = []\n",
    "for sentence in corpus:\n",
    "    encoded_sentence = [word_to_index[word] for word in sentence.split()]\n",
    "    encoded_corpus.append(encoded_sentence)\n",
    "\n",
    "print(encoded_corpus)\n",
    "\n",
    "# Print the encoded corpus\n",
    "for encoded_sentence in encoded_corpus:\n",
    "    print(encoded_sentence)\n",
    "\n"
   ]
  },
  {
   "cell_type": "markdown",
   "metadata": {},
   "source": [
    "### Bag of words (BOW)"
   ]
  },
  {
   "cell_type": "code",
   "execution_count": 13,
   "metadata": {},
   "outputs": [
    {
     "name": "stdout",
     "output_type": "stream",
     "text": [
      "Vocabulary: ['like', 'working', 'Fusemachines', 'skilled', 'team', 'Good', 'career', 'opportunities']\n",
      "Sentence 1 BoW: [1, 1, 1, 0, 0, 0, 0, 0]\n",
      "Sentence 2 BoW: [0, 0, 1, 1, 1, 0, 0, 0]\n",
      "Sentence 3 BoW: [0, 0, 0, 0, 0, 1, 1, 1]\n"
     ]
    }
   ],
   "source": [
    "from nltk.corpus import stopwords\n",
    "\n",
    "\n",
    "\n",
    "# Initialize an empty vocabulary list\n",
    "vocabulary = []\n",
    "\n",
    "# Tokenize the sentences into words and build the vocabulary\n",
    "for sentence in corpus:\n",
    "    words = sentence.split()\n",
    "    # removing stop words before creating bow\n",
    "    stop_words = set(stopwords.words('english'))\n",
    "    filtered_words = [word for word in words if word.lower() not in stop_words]\n",
    "\n",
    "    for word in filtered_words:\n",
    "        if word not in vocabulary:\n",
    "            vocabulary.append(word)\n",
    "\n",
    "# Create a dictionary to map words to their indices in the vocabulary\n",
    "word_to_index = {word: idx for idx, word in enumerate(vocabulary)}\n",
    "\n",
    "# Function to compute Bag of Words (BoW) representation of a sentence\n",
    "def bow(sentence):\n",
    "    '''\n",
    "    Function that make the bag of words of a given sentence.\n",
    "    '''\n",
    "\n",
    "    # Initialize a vector of zeros with the same length as the vocabulary\n",
    "    bow_vector = [0] * len(vocabulary)\n",
    "    # Tokenize the sentence into words\n",
    "    words = sentence.split()\n",
    "    # removing stop words before creating bow\n",
    "    stop_words = set(stopwords.words('english'))\n",
    "    filtered_words = [word for word in words if word.lower() not in stop_words]\n",
    "\n",
    "    # Count word occurrences and update the BoW vector\n",
    "    for word in filtered_words:\n",
    "        if word in word_to_index:\n",
    "            bow_vector[word_to_index[word]] += 1\n",
    "    return bow_vector\n",
    "\n",
    "# Compute the BoW representation for the entire corpus\n",
    "corpus_bow = [bow(sentence) for sentence in corpus]\n",
    "\n",
    "# Print the vocabulary and BoW representation for each sentence\n",
    "print(\"Vocabulary:\", vocabulary)\n",
    "for idx, sentence in enumerate(corpus):\n",
    "    print(f\"Sentence {idx + 1} BoW:\", corpus_bow[idx])"
   ]
  },
  {
   "cell_type": "code",
   "execution_count": null,
   "metadata": {},
   "outputs": [],
   "source": []
  }
 ],
 "metadata": {
  "kernelspec": {
   "display_name": "Python 3",
   "language": "python",
   "name": "python3"
  },
  "language_info": {
   "codemirror_mode": {
    "name": "ipython",
    "version": 3
   },
   "file_extension": ".py",
   "mimetype": "text/x-python",
   "name": "python",
   "nbconvert_exporter": "python",
   "pygments_lexer": "ipython3",
   "version": "3.8.10"
  },
  "orig_nbformat": 4
 },
 "nbformat": 4,
 "nbformat_minor": 2
}
